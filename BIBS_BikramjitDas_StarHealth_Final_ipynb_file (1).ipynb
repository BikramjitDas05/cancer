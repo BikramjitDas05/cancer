{
 "cells": [
  {
   "cell_type": "markdown",
   "id": "4c56e41e",
   "metadata": {},
   "source": [
    "# Author:Bikramjit Das\n"
   ]
  },
  {
   "cell_type": "markdown",
   "id": "0b695d08",
   "metadata": {},
   "source": [
    "# Problem Statement: Hospital X based on the previous data they have,  is trying to identify which of its patients would require a Therapy.\n"
   ]
  },
  {
   "cell_type": "markdown",
   "id": "5aa34dea",
   "metadata": {},
   "source": [
    "# Introduction\n",
    "Breast cancer is the formation of malignant tumour in the cells of breast. If left untreated, it can metastasize to other body parts. Therefore, diagnosis can potentially stop the spread of breast cancer at the initial stage thereby preventing damage of other parts. However, even after detection, it can attack the lymph nodes disrupting the immune system that results in its multiplication. \n",
    "Here, we will classify the people who needs Radiation Therapy and who do not via the attributes: age, class, menopause, tumor size, inv nodes,node-caps, degree of malignancy, breast and breast quadrant. There are 273 observations in the dataset with 10 variables. The Target variable is 'Irradiat'. The definitions of the variables we have are as follows:\n",
    "\n",
    "Age – Patient's age during diagnosis\n",
    "\n",
    "Menopause – The time after 12 months post the final menstruation in women\n",
    "\n",
    "Tumor size – size of the tumor at the time of diagnosis\n",
    "\n",
    "Inv-nodes- INV Nodes are the number (range 0 - 39) of axillary lymph nodes that contain metastatic breast cancer visible on histological examination\n",
    "\n",
    "Node caps – Node Caps indicates whether the cancer. does metastasise to a lymph node\n",
    "\n",
    "Degree of malignancy – it is a measure used to assess how aggressive and harmful a cancerous tumor is\n",
    "\n",
    "Breast – refers to side of the breast where cancer occurs\n",
    "\n",
    "Breast quadrant- For purposes of description, the female breast is divided into four quadrants: upper inner (the top medial quarter), lower inner (the bottom medial quarter), upper outer (the top lateral quarter), and the lower outer (the bottom lateral quarter)\n",
    "\n",
    "Irradiation: Use of high-energy X-rays, protons or other particles to kill cancer cells"
   ]
  },
  {
   "cell_type": "markdown",
   "id": "9be9e766",
   "metadata": {},
   "source": [
    "# Solution"
   ]
  },
  {
   "cell_type": "markdown",
   "id": "6ce53993",
   "metadata": {},
   "source": [
    "# Importing the required libraries"
   ]
  },
  {
   "cell_type": "code",
   "execution_count": 1,
   "id": "fc5293d7",
   "metadata": {},
   "outputs": [],
   "source": [
    "import pandas as pd\n",
    "import seaborn as sns\n",
    "import plotly.express as px\n",
    "import matplotlib.pyplot as plt\n",
    "import numpy as np\n",
    "import warnings\n",
    "warnings.filterwarnings('ignore')"
   ]
  },
  {
   "cell_type": "markdown",
   "id": "2f6968a9",
   "metadata": {},
   "source": [
    "# Importing the dataset with the help of Pandas library"
   ]
  },
  {
   "cell_type": "code",
   "execution_count": 2,
   "id": "d59506d3",
   "metadata": {},
   "outputs": [],
   "source": [
    "data = pd.read_csv(\"C://Users//B Das//Documents//Star Health//Train_Breast_Cancer_csv.csv\")"
   ]
  },
  {
   "cell_type": "markdown",
   "id": "9dd3bc04",
   "metadata": {},
   "source": [
    "# Copying the data set from '\"data\" to \"df\" so that the original data remains same and further changes are done on the copied data"
   ]
  },
  {
   "cell_type": "code",
   "execution_count": 3,
   "id": "1159856c",
   "metadata": {},
   "outputs": [],
   "source": [
    "df = data "
   ]
  },
  {
   "cell_type": "markdown",
   "id": "aa01b5f8",
   "metadata": {},
   "source": [
    "# Understanding the data with help of some basic EDA (Exploratory data analysis) on the dataset"
   ]
  },
  {
   "cell_type": "markdown",
   "id": "9d1407ab",
   "metadata": {},
   "source": [
    "# Loading first five data from the dataset"
   ]
  },
  {
   "cell_type": "code",
   "execution_count": 4,
   "id": "6ed0bfe2",
   "metadata": {},
   "outputs": [
    {
     "data": {
      "text/html": [
       "<div>\n",
       "<style scoped>\n",
       "    .dataframe tbody tr th:only-of-type {\n",
       "        vertical-align: middle;\n",
       "    }\n",
       "\n",
       "    .dataframe tbody tr th {\n",
       "        vertical-align: top;\n",
       "    }\n",
       "\n",
       "    .dataframe thead th {\n",
       "        text-align: right;\n",
       "    }\n",
       "</style>\n",
       "<table border=\"1\" class=\"dataframe\">\n",
       "  <thead>\n",
       "    <tr style=\"text-align: right;\">\n",
       "      <th></th>\n",
       "      <th>Class</th>\n",
       "      <th>Age</th>\n",
       "      <th>Menopause</th>\n",
       "      <th>Tumor-size</th>\n",
       "      <th>Inv-nodes</th>\n",
       "      <th>Node-caps</th>\n",
       "      <th>Deg-malig</th>\n",
       "      <th>Breast</th>\n",
       "      <th>Breast-quad</th>\n",
       "      <th>Irradiat</th>\n",
       "    </tr>\n",
       "  </thead>\n",
       "  <tbody>\n",
       "    <tr>\n",
       "      <th>0</th>\n",
       "      <td>no-recurrence-events</td>\n",
       "      <td>30-39</td>\n",
       "      <td>premeno</td>\n",
       "      <td>30-34</td>\n",
       "      <td>0-2</td>\n",
       "      <td>no</td>\n",
       "      <td>3</td>\n",
       "      <td>left</td>\n",
       "      <td>left_low</td>\n",
       "      <td>no</td>\n",
       "    </tr>\n",
       "    <tr>\n",
       "      <th>1</th>\n",
       "      <td>no-recurrence-events</td>\n",
       "      <td>40-49</td>\n",
       "      <td>premeno</td>\n",
       "      <td>20-24</td>\n",
       "      <td>0-2</td>\n",
       "      <td>no</td>\n",
       "      <td>2</td>\n",
       "      <td>right</td>\n",
       "      <td>right_up</td>\n",
       "      <td>no</td>\n",
       "    </tr>\n",
       "    <tr>\n",
       "      <th>2</th>\n",
       "      <td>no-recurrence-events</td>\n",
       "      <td>40-49</td>\n",
       "      <td>premeno</td>\n",
       "      <td>20-24</td>\n",
       "      <td>0-2</td>\n",
       "      <td>no</td>\n",
       "      <td>2</td>\n",
       "      <td>left</td>\n",
       "      <td>left_low</td>\n",
       "      <td>no</td>\n",
       "    </tr>\n",
       "    <tr>\n",
       "      <th>3</th>\n",
       "      <td>no-recurrence-events</td>\n",
       "      <td>60-69</td>\n",
       "      <td>ge40</td>\n",
       "      <td>15-19</td>\n",
       "      <td>0-2</td>\n",
       "      <td>no</td>\n",
       "      <td>2</td>\n",
       "      <td>right</td>\n",
       "      <td>left_up</td>\n",
       "      <td>no</td>\n",
       "    </tr>\n",
       "    <tr>\n",
       "      <th>4</th>\n",
       "      <td>no-recurrence-events</td>\n",
       "      <td>40-49</td>\n",
       "      <td>premeno</td>\n",
       "      <td>0-4</td>\n",
       "      <td>0-2</td>\n",
       "      <td>no</td>\n",
       "      <td>2</td>\n",
       "      <td>right</td>\n",
       "      <td>right_low</td>\n",
       "      <td>no</td>\n",
       "    </tr>\n",
       "  </tbody>\n",
       "</table>\n",
       "</div>"
      ],
      "text/plain": [
       "                  Class    Age Menopause Tumor-size Inv-nodes Node-caps  \\\n",
       "0  no-recurrence-events  30-39   premeno      30-34       0-2        no   \n",
       "1  no-recurrence-events  40-49   premeno      20-24       0-2        no   \n",
       "2  no-recurrence-events  40-49   premeno      20-24       0-2        no   \n",
       "3  no-recurrence-events  60-69      ge40      15-19       0-2        no   \n",
       "4  no-recurrence-events  40-49   premeno        0-4       0-2        no   \n",
       "\n",
       "   Deg-malig Breast Breast-quad Irradiat  \n",
       "0          3   left    left_low       no  \n",
       "1          2  right    right_up       no  \n",
       "2          2   left    left_low       no  \n",
       "3          2  right     left_up       no  \n",
       "4          2  right   right_low       no  "
      ]
     },
     "execution_count": 4,
     "metadata": {},
     "output_type": "execute_result"
    }
   ],
   "source": [
    "df.head()# inside the bracket we can put any value as per our requirement to load that much amount of data"
   ]
  },
  {
   "cell_type": "markdown",
   "id": "46fa6f3a",
   "metadata": {},
   "source": [
    "# Loading last five data from the dataset"
   ]
  },
  {
   "cell_type": "code",
   "execution_count": 5,
   "id": "862bb2ab",
   "metadata": {},
   "outputs": [
    {
     "data": {
      "text/html": [
       "<div>\n",
       "<style scoped>\n",
       "    .dataframe tbody tr th:only-of-type {\n",
       "        vertical-align: middle;\n",
       "    }\n",
       "\n",
       "    .dataframe tbody tr th {\n",
       "        vertical-align: top;\n",
       "    }\n",
       "\n",
       "    .dataframe thead th {\n",
       "        text-align: right;\n",
       "    }\n",
       "</style>\n",
       "<table border=\"1\" class=\"dataframe\">\n",
       "  <thead>\n",
       "    <tr style=\"text-align: right;\">\n",
       "      <th></th>\n",
       "      <th>Class</th>\n",
       "      <th>Age</th>\n",
       "      <th>Menopause</th>\n",
       "      <th>Tumor-size</th>\n",
       "      <th>Inv-nodes</th>\n",
       "      <th>Node-caps</th>\n",
       "      <th>Deg-malig</th>\n",
       "      <th>Breast</th>\n",
       "      <th>Breast-quad</th>\n",
       "      <th>Irradiat</th>\n",
       "    </tr>\n",
       "  </thead>\n",
       "  <tbody>\n",
       "    <tr>\n",
       "      <th>268</th>\n",
       "      <td>recurrence-events</td>\n",
       "      <td>30-39</td>\n",
       "      <td>premeno</td>\n",
       "      <td>30-34</td>\n",
       "      <td>0-2</td>\n",
       "      <td>no</td>\n",
       "      <td>2</td>\n",
       "      <td>left</td>\n",
       "      <td>left_up</td>\n",
       "      <td>no</td>\n",
       "    </tr>\n",
       "    <tr>\n",
       "      <th>269</th>\n",
       "      <td>recurrence-events</td>\n",
       "      <td>30-39</td>\n",
       "      <td>premeno</td>\n",
       "      <td>20-24</td>\n",
       "      <td>0-2</td>\n",
       "      <td>no</td>\n",
       "      <td>3</td>\n",
       "      <td>left</td>\n",
       "      <td>left_up</td>\n",
       "      <td>yes</td>\n",
       "    </tr>\n",
       "    <tr>\n",
       "      <th>270</th>\n",
       "      <td>recurrence-events</td>\n",
       "      <td>60-69</td>\n",
       "      <td>ge40</td>\n",
       "      <td>20-24</td>\n",
       "      <td>0-2</td>\n",
       "      <td>no</td>\n",
       "      <td>1</td>\n",
       "      <td>right</td>\n",
       "      <td>left_up</td>\n",
       "      <td>no</td>\n",
       "    </tr>\n",
       "    <tr>\n",
       "      <th>271</th>\n",
       "      <td>recurrence-events</td>\n",
       "      <td>40-49</td>\n",
       "      <td>ge40</td>\n",
       "      <td>30-34</td>\n",
       "      <td>3-5</td>\n",
       "      <td>no</td>\n",
       "      <td>3</td>\n",
       "      <td>left</td>\n",
       "      <td>left_low</td>\n",
       "      <td>no</td>\n",
       "    </tr>\n",
       "    <tr>\n",
       "      <th>272</th>\n",
       "      <td>recurrence-events</td>\n",
       "      <td>50-59</td>\n",
       "      <td>ge40</td>\n",
       "      <td>30-34</td>\n",
       "      <td>3-5</td>\n",
       "      <td>no</td>\n",
       "      <td>3</td>\n",
       "      <td>left</td>\n",
       "      <td>left_low</td>\n",
       "      <td>no</td>\n",
       "    </tr>\n",
       "  </tbody>\n",
       "</table>\n",
       "</div>"
      ],
      "text/plain": [
       "                 Class    Age Menopause Tumor-size Inv-nodes Node-caps  \\\n",
       "268  recurrence-events  30-39   premeno      30-34       0-2        no   \n",
       "269  recurrence-events  30-39   premeno      20-24       0-2        no   \n",
       "270  recurrence-events  60-69      ge40      20-24       0-2        no   \n",
       "271  recurrence-events  40-49      ge40      30-34       3-5        no   \n",
       "272  recurrence-events  50-59      ge40      30-34       3-5        no   \n",
       "\n",
       "     Deg-malig Breast Breast-quad Irradiat  \n",
       "268          2   left     left_up       no  \n",
       "269          3   left     left_up      yes  \n",
       "270          1  right     left_up       no  \n",
       "271          3   left    left_low       no  \n",
       "272          3   left    left_low       no  "
      ]
     },
     "execution_count": 5,
     "metadata": {},
     "output_type": "execute_result"
    }
   ],
   "source": [
    "df.tail()# inside the bracket we can put any value as per our requirement to load that much amount of data"
   ]
  },
  {
   "cell_type": "markdown",
   "id": "27559fbe",
   "metadata": {},
   "source": [
    "# Will see the structure of the dataset to get a clear view of the summary"
   ]
  },
  {
   "cell_type": "code",
   "execution_count": 6,
   "id": "59c26439",
   "metadata": {},
   "outputs": [
    {
     "data": {
      "text/plain": [
       "'                    Class    Age Menopause Tumor-size Inv-nodes Node-caps  \\\\\\n0    no-recurrence-events  30-39   premeno      30-34       0-2        no   \\n1    no-recurrence-events  40-49   premeno      20-24       0-2        no   \\n2    no-recurrence-events  40-49   premeno      20-24       0-2        no   \\n3    no-recurrence-events  60-69      ge40      15-19       0-2        no   \\n4    no-recurrence-events  40-49   premeno        0-4       0-2        no   \\n..                    ...    ...       ...        ...       ...       ...   \\n268     recurrence-events  30-39   premeno      30-34       0-2        no   \\n269     recurrence-events  30-39   premeno      20-24       0-2        no   \\n270     recurrence-events  60-69      ge40      20-24       0-2        no   \\n271     recurrence-events  40-49      ge40      30-34       3-5        no   \\n272     recurrence-events  50-59      ge40      30-34       3-5        no   \\n\\n     Deg-malig Breast Breast-quad Irradiat  \\n0            3   left    left_low       no  \\n1            2  right    right_up       no  \\n2            2   left    left_low       no  \\n3            2  right     left_up       no  \\n4            2  right   right_low       no  \\n..         ...    ...         ...      ...  \\n268          2   left     left_up       no  \\n269          3   left     left_up      yes  \\n270          1  right     left_up       no  \\n271          3   left    left_low       no  \\n272          3   left    left_low       no  \\n\\n[273 rows x 10 columns]'"
      ]
     },
     "execution_count": 6,
     "metadata": {},
     "output_type": "execute_result"
    }
   ],
   "source": [
    "str(df)"
   ]
  },
  {
   "cell_type": "markdown",
   "id": "64b80692",
   "metadata": {},
   "source": [
    "# To see how many columns and rows are there in the dataset"
   ]
  },
  {
   "cell_type": "code",
   "execution_count": 7,
   "id": "5b7e3c40",
   "metadata": {},
   "outputs": [
    {
     "data": {
      "text/plain": [
       "(273, 10)"
      ]
     },
     "execution_count": 7,
     "metadata": {},
     "output_type": "execute_result"
    }
   ],
   "source": [
    "df.shape"
   ]
  },
  {
   "cell_type": "markdown",
   "id": "98e737dc",
   "metadata": {},
   "source": [
    "# To find the null values in the entire dataset (but showing only first 5 and last 5 rows)"
   ]
  },
  {
   "cell_type": "code",
   "execution_count": 8,
   "id": "30bade76",
   "metadata": {},
   "outputs": [
    {
     "data": {
      "text/html": [
       "<div>\n",
       "<style scoped>\n",
       "    .dataframe tbody tr th:only-of-type {\n",
       "        vertical-align: middle;\n",
       "    }\n",
       "\n",
       "    .dataframe tbody tr th {\n",
       "        vertical-align: top;\n",
       "    }\n",
       "\n",
       "    .dataframe thead th {\n",
       "        text-align: right;\n",
       "    }\n",
       "</style>\n",
       "<table border=\"1\" class=\"dataframe\">\n",
       "  <thead>\n",
       "    <tr style=\"text-align: right;\">\n",
       "      <th></th>\n",
       "      <th>Class</th>\n",
       "      <th>Age</th>\n",
       "      <th>Menopause</th>\n",
       "      <th>Tumor-size</th>\n",
       "      <th>Inv-nodes</th>\n",
       "      <th>Node-caps</th>\n",
       "      <th>Deg-malig</th>\n",
       "      <th>Breast</th>\n",
       "      <th>Breast-quad</th>\n",
       "      <th>Irradiat</th>\n",
       "    </tr>\n",
       "  </thead>\n",
       "  <tbody>\n",
       "    <tr>\n",
       "      <th>0</th>\n",
       "      <td>False</td>\n",
       "      <td>False</td>\n",
       "      <td>False</td>\n",
       "      <td>False</td>\n",
       "      <td>False</td>\n",
       "      <td>False</td>\n",
       "      <td>False</td>\n",
       "      <td>False</td>\n",
       "      <td>False</td>\n",
       "      <td>False</td>\n",
       "    </tr>\n",
       "    <tr>\n",
       "      <th>1</th>\n",
       "      <td>False</td>\n",
       "      <td>False</td>\n",
       "      <td>False</td>\n",
       "      <td>False</td>\n",
       "      <td>False</td>\n",
       "      <td>False</td>\n",
       "      <td>False</td>\n",
       "      <td>False</td>\n",
       "      <td>False</td>\n",
       "      <td>False</td>\n",
       "    </tr>\n",
       "    <tr>\n",
       "      <th>2</th>\n",
       "      <td>False</td>\n",
       "      <td>False</td>\n",
       "      <td>False</td>\n",
       "      <td>False</td>\n",
       "      <td>False</td>\n",
       "      <td>False</td>\n",
       "      <td>False</td>\n",
       "      <td>False</td>\n",
       "      <td>False</td>\n",
       "      <td>False</td>\n",
       "    </tr>\n",
       "    <tr>\n",
       "      <th>3</th>\n",
       "      <td>False</td>\n",
       "      <td>False</td>\n",
       "      <td>False</td>\n",
       "      <td>False</td>\n",
       "      <td>False</td>\n",
       "      <td>False</td>\n",
       "      <td>False</td>\n",
       "      <td>False</td>\n",
       "      <td>False</td>\n",
       "      <td>False</td>\n",
       "    </tr>\n",
       "    <tr>\n",
       "      <th>4</th>\n",
       "      <td>False</td>\n",
       "      <td>False</td>\n",
       "      <td>False</td>\n",
       "      <td>False</td>\n",
       "      <td>False</td>\n",
       "      <td>False</td>\n",
       "      <td>False</td>\n",
       "      <td>False</td>\n",
       "      <td>False</td>\n",
       "      <td>False</td>\n",
       "    </tr>\n",
       "    <tr>\n",
       "      <th>...</th>\n",
       "      <td>...</td>\n",
       "      <td>...</td>\n",
       "      <td>...</td>\n",
       "      <td>...</td>\n",
       "      <td>...</td>\n",
       "      <td>...</td>\n",
       "      <td>...</td>\n",
       "      <td>...</td>\n",
       "      <td>...</td>\n",
       "      <td>...</td>\n",
       "    </tr>\n",
       "    <tr>\n",
       "      <th>268</th>\n",
       "      <td>False</td>\n",
       "      <td>False</td>\n",
       "      <td>False</td>\n",
       "      <td>False</td>\n",
       "      <td>False</td>\n",
       "      <td>False</td>\n",
       "      <td>False</td>\n",
       "      <td>False</td>\n",
       "      <td>False</td>\n",
       "      <td>False</td>\n",
       "    </tr>\n",
       "    <tr>\n",
       "      <th>269</th>\n",
       "      <td>False</td>\n",
       "      <td>False</td>\n",
       "      <td>False</td>\n",
       "      <td>False</td>\n",
       "      <td>False</td>\n",
       "      <td>False</td>\n",
       "      <td>False</td>\n",
       "      <td>False</td>\n",
       "      <td>False</td>\n",
       "      <td>False</td>\n",
       "    </tr>\n",
       "    <tr>\n",
       "      <th>270</th>\n",
       "      <td>False</td>\n",
       "      <td>False</td>\n",
       "      <td>False</td>\n",
       "      <td>False</td>\n",
       "      <td>False</td>\n",
       "      <td>False</td>\n",
       "      <td>False</td>\n",
       "      <td>False</td>\n",
       "      <td>False</td>\n",
       "      <td>False</td>\n",
       "    </tr>\n",
       "    <tr>\n",
       "      <th>271</th>\n",
       "      <td>False</td>\n",
       "      <td>False</td>\n",
       "      <td>False</td>\n",
       "      <td>False</td>\n",
       "      <td>False</td>\n",
       "      <td>False</td>\n",
       "      <td>False</td>\n",
       "      <td>False</td>\n",
       "      <td>False</td>\n",
       "      <td>False</td>\n",
       "    </tr>\n",
       "    <tr>\n",
       "      <th>272</th>\n",
       "      <td>False</td>\n",
       "      <td>False</td>\n",
       "      <td>False</td>\n",
       "      <td>False</td>\n",
       "      <td>False</td>\n",
       "      <td>False</td>\n",
       "      <td>False</td>\n",
       "      <td>False</td>\n",
       "      <td>False</td>\n",
       "      <td>False</td>\n",
       "    </tr>\n",
       "  </tbody>\n",
       "</table>\n",
       "<p>273 rows × 10 columns</p>\n",
       "</div>"
      ],
      "text/plain": [
       "     Class    Age  Menopause  Tumor-size  Inv-nodes  Node-caps  Deg-malig  \\\n",
       "0    False  False      False       False      False      False      False   \n",
       "1    False  False      False       False      False      False      False   \n",
       "2    False  False      False       False      False      False      False   \n",
       "3    False  False      False       False      False      False      False   \n",
       "4    False  False      False       False      False      False      False   \n",
       "..     ...    ...        ...         ...        ...        ...        ...   \n",
       "268  False  False      False       False      False      False      False   \n",
       "269  False  False      False       False      False      False      False   \n",
       "270  False  False      False       False      False      False      False   \n",
       "271  False  False      False       False      False      False      False   \n",
       "272  False  False      False       False      False      False      False   \n",
       "\n",
       "     Breast  Breast-quad  Irradiat  \n",
       "0     False        False     False  \n",
       "1     False        False     False  \n",
       "2     False        False     False  \n",
       "3     False        False     False  \n",
       "4     False        False     False  \n",
       "..      ...          ...       ...  \n",
       "268   False        False     False  \n",
       "269   False        False     False  \n",
       "270   False        False     False  \n",
       "271   False        False     False  \n",
       "272   False        False     False  \n",
       "\n",
       "[273 rows x 10 columns]"
      ]
     },
     "execution_count": 8,
     "metadata": {},
     "output_type": "execute_result"
    }
   ],
   "source": [
    "df.isnull()"
   ]
  },
  {
   "cell_type": "markdown",
   "id": "564f6114",
   "metadata": {},
   "source": [
    "# To see total number of null values in each column of the dataset"
   ]
  },
  {
   "cell_type": "code",
   "execution_count": 9,
   "id": "b67df88d",
   "metadata": {},
   "outputs": [
    {
     "data": {
      "text/plain": [
       "Class          0\n",
       "Age            0\n",
       "Menopause      0\n",
       "Tumor-size     0\n",
       "Inv-nodes      0\n",
       "Node-caps      0\n",
       "Deg-malig      0\n",
       "Breast         0\n",
       "Breast-quad    0\n",
       "Irradiat       0\n",
       "dtype: int64"
      ]
     },
     "execution_count": 9,
     "metadata": {},
     "output_type": "execute_result"
    }
   ],
   "source": [
    "df.isnull().sum()"
   ]
  },
  {
   "cell_type": "markdown",
   "id": "2523f108",
   "metadata": {},
   "source": [
    "# To see the data type of each column "
   ]
  },
  {
   "cell_type": "code",
   "execution_count": 10,
   "id": "eeb18bd1",
   "metadata": {},
   "outputs": [
    {
     "name": "stdout",
     "output_type": "stream",
     "text": [
      "<class 'pandas.core.frame.DataFrame'>\n",
      "RangeIndex: 273 entries, 0 to 272\n",
      "Data columns (total 10 columns):\n",
      " #   Column       Non-Null Count  Dtype \n",
      "---  ------       --------------  ----- \n",
      " 0   Class        273 non-null    object\n",
      " 1   Age          273 non-null    object\n",
      " 2   Menopause    273 non-null    object\n",
      " 3   Tumor-size   273 non-null    object\n",
      " 4   Inv-nodes    273 non-null    object\n",
      " 5   Node-caps    273 non-null    object\n",
      " 6   Deg-malig    273 non-null    int64 \n",
      " 7   Breast       273 non-null    object\n",
      " 8   Breast-quad  273 non-null    object\n",
      " 9   Irradiat     273 non-null    object\n",
      "dtypes: int64(1), object(9)\n",
      "memory usage: 21.5+ KB\n"
     ]
    }
   ],
   "source": [
    "df.info()#we can find out null values in this way as well"
   ]
  },
  {
   "cell_type": "markdown",
   "id": "1aef8b59",
   "metadata": {},
   "source": [
    "# To see the attributes present in each column()"
   ]
  },
  {
   "cell_type": "code",
   "execution_count": 11,
   "id": "75cb147d",
   "metadata": {},
   "outputs": [
    {
     "name": "stdout",
     "output_type": "stream",
     "text": [
      "no-recurrence-events    189\n",
      "recurrence-events        84\n",
      "Name: Class, dtype: int64\n",
      "50-59    92\n",
      "40-49    86\n",
      "60-69    55\n",
      "30-39    33\n",
      "70-79     6\n",
      "20-29     1\n",
      "Name: Age, dtype: int64\n",
      "premeno    142\n",
      "ge40       125\n",
      "lt40         6\n",
      "Name: Menopause, dtype: int64\n",
      "30-34    57\n",
      "25-29    51\n",
      "20-24    48\n",
      "15-19    30\n",
      "10-14    28\n",
      "40-44    19\n",
      "35-39    17\n",
      "0-4       8\n",
      "50-54     8\n",
      "5-9       4\n",
      "45-49     3\n",
      "Name: Tumor-size, dtype: int64\n",
      "0-2      209\n",
      "3-5       32\n",
      "6-8       15\n",
      "9-11       7\n",
      "15-17      6\n",
      "12-14      3\n",
      "24-26      1\n",
      "Name: Inv-nodes, dtype: int64\n",
      "no     217\n",
      "yes     51\n",
      "?        5\n",
      "Name: Node-caps, dtype: int64\n",
      "2    123\n",
      "3     81\n",
      "1     69\n",
      "Name: Deg-malig, dtype: int64\n",
      "left     146\n",
      "right    127\n",
      "Name: Breast, dtype: int64\n",
      "left_low     109\n",
      "left_up       89\n",
      "right_up      30\n",
      "right_low     24\n",
      "central       20\n",
      "?              1\n",
      "Name: Breast-quad, dtype: int64\n",
      "no     213\n",
      "yes     60\n",
      "Name: Irradiat, dtype: int64\n"
     ]
    }
   ],
   "source": [
    "print(df[\"Class\"].value_counts())\n",
    "print(df[\"Age\"].value_counts())\n",
    "print(df[\"Menopause\"].value_counts())\n",
    "print(df[\"Tumor-size\"].value_counts())\n",
    "print(df[\"Inv-nodes\"].value_counts())\n",
    "print(df[\"Node-caps\"].value_counts())\n",
    "print(df[\"Deg-malig\"].value_counts())\n",
    "print(df[\"Breast\"].value_counts())\n",
    "print(df[\"Breast-quad\"].value_counts())\n",
    "print(df[\"Irradiat\"].value_counts())"
   ]
  },
  {
   "cell_type": "markdown",
   "id": "596e9df0",
   "metadata": {},
   "source": [
    "Based on the above output, we can see there are \"?\" on the columns: \"Breast-quad\" & \"Node-caps\". The rows containing such \"?\" could affect our data set so on the following step, we will be dropping those rows to get the best output."
   ]
  },
  {
   "cell_type": "markdown",
   "id": "18079aec",
   "metadata": {},
   "source": [
    "# Data Cleaning"
   ]
  },
  {
   "cell_type": "markdown",
   "id": "1520b07d",
   "metadata": {},
   "source": [
    "# Dropping the rows where there are \"?\""
   ]
  },
  {
   "cell_type": "code",
   "execution_count": 12,
   "id": "d70538e2",
   "metadata": {},
   "outputs": [],
   "source": [
    "df.drop(df.index[df['Node-caps'] == '?'], inplace = True)\n",
    "df.drop(df.index[df['Breast-quad'] == '?'], inplace = True)"
   ]
  },
  {
   "cell_type": "markdown",
   "id": "2ba8cd9e",
   "metadata": {},
   "source": [
    "# To see how many columns and rows remain after dropping the rows"
   ]
  },
  {
   "cell_type": "code",
   "execution_count": 13,
   "id": "1c237a70",
   "metadata": {},
   "outputs": [
    {
     "data": {
      "text/plain": [
       "(267, 10)"
      ]
     },
     "execution_count": 13,
     "metadata": {},
     "output_type": "execute_result"
    }
   ],
   "source": [
    "df.shape"
   ]
  },
  {
   "cell_type": "markdown",
   "id": "85292673",
   "metadata": {},
   "source": [
    "So previously we saw that there were 273 rows & 10 columns. Now after dropping, we can see there are 267 rows and 10 columns."
   ]
  },
  {
   "cell_type": "markdown",
   "id": "554ba962",
   "metadata": {},
   "source": [
    "# Reset index after dropping"
   ]
  },
  {
   "cell_type": "code",
   "execution_count": 14,
   "id": "462b8ddb",
   "metadata": {},
   "outputs": [],
   "source": [
    "df=df.dropna().reset_index(drop=True)"
   ]
  },
  {
   "cell_type": "markdown",
   "id": "a05edb5d",
   "metadata": {},
   "source": [
    "# DATA VISUALIZATION"
   ]
  },
  {
   "cell_type": "markdown",
   "id": "0aa707cd",
   "metadata": {},
   "source": [
    "# In the first nine visualizations, we will see how the nine columns are related with our target variable \"Irradiat\""
   ]
  },
  {
   "cell_type": "markdown",
   "id": "2cea002f",
   "metadata": {},
   "source": [
    "# 1: Chances of Taking or Not Taking radiation therapy based on Class"
   ]
  },
  {
   "cell_type": "code",
   "execution_count": 15,
   "id": "efb8323e",
   "metadata": {},
   "outputs": [
    {
     "data": {
      "text/plain": [
       "<seaborn.axisgrid.FacetGrid at 0x1e4c0d14350>"
      ]
     },
     "execution_count": 15,
     "metadata": {},
     "output_type": "execute_result"
    },
    {
     "data": {
      "image/png": "[encoded data removed]",
      "text/plain": [
       "<Figure size 573.875x500 with 1 Axes>"
      ]
     },
     "metadata": {},
     "output_type": "display_data"
    }
   ],
   "source": [
    "sns. catplot(x=\"Class\", hue=\"Irradiat\", kind=\"count\", palette=\"pastel\", edgecolor=\".6\", data=df)"
   ]
  },
  {
   "cell_type": "markdown",
   "id": "006cc3a0",
   "metadata": {},
   "source": [
    "# Observation:From the above visualization irradiat vs Class we can see when the cancer is recurring, women are taking more radiation therapy"
   ]
  },
  {
   "cell_type": "markdown",
   "id": "3795ff25",
   "metadata": {},
   "source": [
    "# 2: Chances of Taking or Not Taking radiation therapy based on Age"
   ]
  },
  {
   "cell_type": "code",
   "execution_count": 16,
   "id": "79ee1c65",
   "metadata": {},
   "outputs": [
    {
     "data": {
      "text/plain": [
       "<seaborn.axisgrid.FacetGrid at 0x1e4c0dc45d0>"
      ]
     },
     "execution_count": 16,
     "metadata": {},
     "output_type": "execute_result"
    },
    {
     "data": {
      "image/png": "[encoded data removed]",
      "text/plain": [
       "<Figure size 573.875x500 with 1 Axes>"
      ]
     },
     "metadata": {},
     "output_type": "display_data"
    }
   ],
   "source": [
    "sns. catplot(x= \"Age\", hue=\"Irradiat\", kind=\"count\", palette=\"pastel\", edgecolor=\".6\", data=df)"
   ]
  },
  {
   "cell_type": "markdown",
   "id": "25f7c242",
   "metadata": {},
   "source": [
    "# Observation: From the above visualization irradiat vs Age we can see that age group of 50-59 are having cancer and they are taking less radiation therapy and age group of 40-49 are taking more Radiation therapy and age group of 70-79 are not at all preferring radiation therapy as many of them can not tolerate the radiation therapy although we know it is very critical "
   ]
  },
  {
   "cell_type": "markdown",
   "id": "27cfc8ad",
   "metadata": {},
   "source": [
    "# 3: Chances of Taking or Not Taking radiation therapy based on Menopause"
   ]
  },
  {
   "cell_type": "code",
   "execution_count": 17,
   "id": "a4c1a383",
   "metadata": {},
   "outputs": [
    {
     "data": {
      "text/plain": [
       "<seaborn.axisgrid.FacetGrid at 0x1e4c0ccc5d0>"
      ]
     },
     "execution_count": 17,
     "metadata": {},
     "output_type": "execute_result"
    },
    {
     "data": {
      "image/png": "[encoded data removed]",
      "text/plain": [
       "<Figure size 573.875x500 with 1 Axes>"
      ]
     },
     "metadata": {},
     "output_type": "display_data"
    }
   ],
   "source": [
    "sns. catplot(x= \"Menopause\", hue=\"Irradiat\", kind=\"count\", palette=\"pastel\", edgecolor=\".6\", data=df)"
   ]
  },
  {
   "cell_type": "markdown",
   "id": "13f0ae92",
   "metadata": {},
   "source": [
    "# Observation: From the above visualization Irradiat vs Menopause we can see that most women are not preferring Radiation therapy and very few women are preferring radiation therapy at the stage of premeno and ge40"
   ]
  },
  {
   "cell_type": "markdown",
   "id": "9c8d0086",
   "metadata": {},
   "source": [
    "# 4: Chances of Taking or Not Taking radiation therapy based on Tumor-size"
   ]
  },
  {
   "cell_type": "code",
   "execution_count": 18,
   "id": "cbfc9509",
   "metadata": {},
   "outputs": [
    {
     "data": {
      "text/plain": [
       "<seaborn.axisgrid.FacetGrid at 0x1e4c160bcd0>"
      ]
     },
     "execution_count": 18,
     "metadata": {},
     "output_type": "execute_result"
    },
    {
     "data": {
      "image/png": "[encoded data removed]",
      "text/plain": [
       "<Figure size 573.875x500 with 1 Axes>"
      ]
     },
     "metadata": {},
     "output_type": "display_data"
    }
   ],
   "source": [
    "sns. catplot(x= \"Tumor-size\", hue=\"Irradiat\", kind=\"count\", palette=\"pastel\", edgecolor=\".6\", data=df)"
   ]
  },
  {
   "cell_type": "markdown",
   "id": "fce894d4",
   "metadata": {},
   "source": [
    "# Observation: From the above visualization Irradiat vs Tumor-size we can see what ever be the tumor size the chances of not taking radiation is always more .However compared to other tumer sizes, radiation is given more for the sizes 30-34 & 25-29"
   ]
  },
  {
   "cell_type": "markdown",
   "id": "77735941",
   "metadata": {},
   "source": [
    "# 5: Chances of Taking or Not Taking radiation therapy based on Inv-nodes"
   ]
  },
  {
   "cell_type": "code",
   "execution_count": 19,
   "id": "0c01afd6",
   "metadata": {},
   "outputs": [
    {
     "data": {
      "text/plain": [
       "<seaborn.axisgrid.FacetGrid at 0x1e4c0d145d0>"
      ]
     },
     "execution_count": 19,
     "metadata": {},
     "output_type": "execute_result"
    },
    {
     "data": {
      "image/png": "[encoded data removed]",
      "text/plain": [
       "<Figure size 573.875x500 with 1 Axes>"
      ]
     },
     "metadata": {},
     "output_type": "display_data"
    }
   ],
   "source": [
    "sns. catplot(x= \"Inv-nodes\", hue=\"Irradiat\", kind=\"count\", palette=\"pastel\", edgecolor=\".6\", data=df)"
   ]
  },
  {
   "cell_type": "markdown",
   "id": "02df74c8",
   "metadata": {},
   "source": [
    "# Observation: From the above visualization Irradiat vs Inv-nodes (Lymph nodes) we can see when only 0-2 lymph nodes are probably cancerous there is no need of radiation therapy"
   ]
  },
  {
   "cell_type": "markdown",
   "id": "c14eb19b",
   "metadata": {},
   "source": [
    "# 6: Chances of Taking or Not Taking radiation therapy based on Node-caps"
   ]
  },
  {
   "cell_type": "code",
   "execution_count": 20,
   "id": "89b3ebd7",
   "metadata": {},
   "outputs": [
    {
     "data": {
      "text/plain": [
       "<seaborn.axisgrid.FacetGrid at 0x1e4c1a88910>"
      ]
     },
     "execution_count": 20,
     "metadata": {},
     "output_type": "execute_result"
    },
    {
     "data": {
      "image/png": "[encoded data removed]",
      "text/plain": [
       "<Figure size 573.875x500 with 1 Axes>"
      ]
     },
     "metadata": {},
     "output_type": "display_data"
    }
   ],
   "source": [
    "sns. catplot(x= \"Node-caps\", hue=\"Irradiat\", kind=\"count\", palette=\"pastel\", edgecolor=\".6\", data=df)"
   ]
  },
  {
   "cell_type": "markdown",
   "id": "3865003d",
   "metadata": {},
   "source": [
    "# Observation: From the above visualization Irradiat vs Node-caps we can see that in case of presence of node caps there is an almost equal chances of taking or not taking radiation therapy, but if there is no node caps the chances of not taking radiation therapy is significantly higher  "
   ]
  },
  {
   "cell_type": "markdown",
   "id": "b1fd39b3",
   "metadata": {},
   "source": [
    "# 7: Chances of Taking or Not Taking radiation therapy based on degree of malignancy"
   ]
  },
  {
   "cell_type": "code",
   "execution_count": 21,
   "id": "b0e81224",
   "metadata": {},
   "outputs": [
    {
     "data": {
      "text/plain": [
       "<seaborn.axisgrid.FacetGrid at 0x1e4c157f090>"
      ]
     },
     "execution_count": 21,
     "metadata": {},
     "output_type": "execute_result"
    },
    {
     "data": {
      "image/png": "[encoded data removed]",
      "text/plain": [
       "<Figure size 573.875x500 with 1 Axes>"
      ]
     },
     "metadata": {},
     "output_type": "display_data"
    }
   ],
   "source": [
    "sns. catplot(x= \"Deg-malig\", hue=\"Irradiat\", kind=\"count\", palette=\"pastel\", edgecolor=\".6\", data=df)"
   ]
  },
  {
   "cell_type": "markdown",
   "id": "6890a684",
   "metadata": {},
   "source": [
    "# Observation: From the above visualization Irradiat vs Degree of malignancy we can see that the ratio of not taking radiation therapy is higher compared to taking therapy in all degrees of malignancy. However, in degree 2, there are observed cases of taking the therapy more than degree 1 or 3"
   ]
  },
  {
   "cell_type": "markdown",
   "id": "819957b8",
   "metadata": {},
   "source": [
    "# 8: Chances of Taking or Not Taking radiation therapy based on breast"
   ]
  },
  {
   "cell_type": "code",
   "execution_count": 22,
   "id": "3b51369f",
   "metadata": {},
   "outputs": [
    {
     "data": {
      "text/plain": [
       "<seaborn.axisgrid.FacetGrid at 0x1e4c1bcf090>"
      ]
     },
     "execution_count": 22,
     "metadata": {},
     "output_type": "execute_result"
    },
    {
     "data": {
      "image/png": "[encoded data removed]",
      "text/plain": [
       "<Figure size 573.875x500 with 1 Axes>"
      ]
     },
     "metadata": {},
     "output_type": "display_data"
    }
   ],
   "source": [
    "sns. catplot(x= \"Breast\", hue=\"Irradiat\", kind=\"count\", palette=\"pastel\", edgecolor=\".6\", data=df)"
   ]
  },
  {
   "cell_type": "markdown",
   "id": "86e77acf",
   "metadata": {},
   "source": [
    "# Observation: From the above visualization Irradiat vs Breast we can see that taking radiation therapy is not as such dependent on whether cancer is occurring on left or right breast "
   ]
  },
  {
   "cell_type": "markdown",
   "id": "31c1627a",
   "metadata": {},
   "source": [
    "# 9: Chances of Taking or Not Taking radiation therapy based on breast quad"
   ]
  },
  {
   "cell_type": "code",
   "execution_count": 23,
   "id": "c3640d53",
   "metadata": {},
   "outputs": [
    {
     "data": {
      "text/plain": [
       "<seaborn.axisgrid.FacetGrid at 0x1e4c1b745d0>"
      ]
     },
     "execution_count": 23,
     "metadata": {},
     "output_type": "execute_result"
    },
    {
     "data": {
      "image/png": "[encoded data removed]",
      "text/plain": [
       "<Figure size 573.875x500 with 1 Axes>"
      ]
     },
     "metadata": {},
     "output_type": "display_data"
    }
   ],
   "source": [
    "sns. catplot(x= \"Breast-quad\", hue=\"Irradiat\", kind=\"count\", palette=\"pastel\", edgecolor=\".6\", data=df)"
   ]
  },
  {
   "cell_type": "markdown",
   "id": "96e7906d",
   "metadata": {},
   "source": [
    "# Observation: From the above visualization Irradiat vs Breast-quad we can see that radiation therapy is taken more in the left breast(left_low, left_up) compare to the right quads"
   ]
  },
  {
   "cell_type": "markdown",
   "id": "c2d60bc4",
   "metadata": {},
   "source": [
    "# Relation of the features with each other"
   ]
  },
  {
   "cell_type": "markdown",
   "id": "f930151a",
   "metadata": {},
   "source": [
    "# Visualization of Node-caps with Inv-Nodes"
   ]
  },
  {
   "cell_type": "code",
   "execution_count": 24,
   "id": "907288e8",
   "metadata": {},
   "outputs": [
    {
     "data": {
      "text/plain": [
       "<seaborn.axisgrid.FacetGrid at 0x1e4c1df45d0>"
      ]
     },
     "execution_count": 24,
     "metadata": {},
     "output_type": "execute_result"
    },
    {
     "data": {
      "image/png": "[encoded data removed]",
      "text/plain": [
       "<Figure size 584.486x500 with 1 Axes>"
      ]
     },
     "metadata": {},
     "output_type": "display_data"
    }
   ],
   "source": [
    "sns. catplot(x=\"Inv-nodes\", hue=\"Node-caps\", kind=\"count\", palette=\"pastel\", edgecolor=\".6\", data=df)"
   ]
  },
  {
   "cell_type": "markdown",
   "id": "4b3ce641",
   "metadata": {},
   "source": [
    "# Observation: From the above visualization Inv-nodes vs Node-caps we can see that if count of inv-nodes is 0-2 then there are almost no node-caps however if the numbers are between 3-5 or 6-8the chances of having node-caps increses "
   ]
  },
  {
   "cell_type": "markdown",
   "id": "576092a5",
   "metadata": {},
   "source": [
    "# Visualization of Age with Menopause"
   ]
  },
  {
   "cell_type": "code",
   "execution_count": 25,
   "id": "2f9b0d61",
   "metadata": {},
   "outputs": [
    {
     "data": {
      "text/plain": [
       "<seaborn.axisgrid.FacetGrid at 0x1e4c310bf50>"
      ]
     },
     "execution_count": 25,
     "metadata": {},
     "output_type": "execute_result"
    },
    {
     "data": {
      "image/png": "[encoded data removed]",
      "text/plain": [
       "<Figure size 612.125x500 with 1 Axes>"
      ]
     },
     "metadata": {},
     "output_type": "display_data"
    }
   ],
   "source": [
    "sns. catplot(x=\"Age\", hue=\"Menopause\", kind=\"count\", palette=\"pastel\", edgecolor=\".6\", data=df)"
   ]
  },
  {
   "cell_type": "markdown",
   "id": "30a3ad0f",
   "metadata": {},
   "source": [
    "# Observation: From the above visualization Age vs Menopause we can see that below 40 years majority of women are in premeno stage while after 40 particularly after 60 years of age almost every women has reached menopause"
   ]
  },
  {
   "cell_type": "markdown",
   "id": "22a4b7dc",
   "metadata": {},
   "source": [
    "# Visualization of Age with Tumor-size"
   ]
  },
  {
   "cell_type": "code",
   "execution_count": 26,
   "id": "94ed37f3",
   "metadata": {},
   "outputs": [
    {
     "data": {
      "text/plain": [
       "<Axes: xlabel='Age', ylabel='Tumor-size'>"
      ]
     },
     "execution_count": 26,
     "metadata": {},
     "output_type": "execute_result"
    },
    {
     "data": {
      "image/png": "[encoded data removed]",
      "text/plain": [
       "<Figure size 640x480 with 1 Axes>"
      ]
     },
     "metadata": {},
     "output_type": "display_data"
    }
   ],
   "source": [
    "sns.lineplot(x=\"Age\", y=\"Tumor-size\", data=df)"
   ]
  },
  {
   "cell_type": "markdown",
   "id": "511dcd05",
   "metadata": {},
   "source": [
    "# Observation: From the above visualization Age vs Menopause we can see that Age category of 20-29 have the largest tumor size and the age group 40-49 have the smallest tumor size"
   ]
  },
  {
   "cell_type": "markdown",
   "id": "f13bd796",
   "metadata": {},
   "source": [
    "# Visualization of Deg-malig"
   ]
  },
  {
   "cell_type": "code",
   "execution_count": 27,
   "id": "cf37632a",
   "metadata": {},
   "outputs": [
    {
     "data": {
      "text/plain": [
       "<Axes: ylabel='Deg-malig'>"
      ]
     },
     "execution_count": 27,
     "metadata": {},
     "output_type": "execute_result"
    },
    {
     "data": {
      "image/png": "[encoded data removed]",
      "text/plain": [
       "<Figure size 640x480 with 1 Axes>"
      ]
     },
     "metadata": {},
     "output_type": "display_data"
    }
   ],
   "source": [
    "sns.violinplot( y=\"Deg-malig\" , data = df)"
   ]
  },
  {
   "cell_type": "markdown",
   "id": "71b6af38",
   "metadata": {},
   "source": [
    "# Observation: From the above visualization we can see most commonly occurring degree of malignancy is at degree of 2"
   ]
  },
  {
   "cell_type": "markdown",
   "id": "e57dec85",
   "metadata": {},
   "source": [
    "# Visualization of Age with Deg-malig"
   ]
  },
  {
   "cell_type": "code",
   "execution_count": 28,
   "id": "38763ed6",
   "metadata": {},
   "outputs": [
    {
     "data": {
      "text/plain": [
       "<Axes: xlabel='Age', ylabel='Deg-malig'>"
      ]
     },
     "execution_count": 28,
     "metadata": {},
     "output_type": "execute_result"
    },
    {
     "data": {
      "image/png": "[encoded data removed]",
      "text/plain": [
       "<Figure size 640x480 with 1 Axes>"
      ]
     },
     "metadata": {},
     "output_type": "display_data"
    }
   ],
   "source": [
    "sns.violinplot(x=\"Age\" , y=\"Deg-malig\" , data = df)"
   ]
  },
  {
   "cell_type": "markdown",
   "id": "ac41d98a",
   "metadata": {},
   "source": [
    "# Observation: From the above visualization Age vs Degree of malignancy we can see age category 30- 69 encounters degree 2 and expectionally age categoery 70-79 encounters degree of malignancy 1"
   ]
  },
  {
   "cell_type": "markdown",
   "id": "64422cb5",
   "metadata": {},
   "source": [
    "# Visualization of Class with Tumor-size"
   ]
  },
  {
   "cell_type": "code",
   "execution_count": 29,
   "id": "48e75a9f",
   "metadata": {},
   "outputs": [
    {
     "data": {
      "text/plain": [
       "<seaborn.axisgrid.FacetGrid at 0x1e4c30f7090>"
      ]
     },
     "execution_count": 29,
     "metadata": {},
     "output_type": "execute_result"
    },
    {
     "data": {
      "image/png": "[encoded data removed]",
      "text/plain": [
       "<Figure size 590.375x500 with 1 Axes>"
      ]
     },
     "metadata": {},
     "output_type": "display_data"
    }
   ],
   "source": [
    "sns. catplot(x=\"Class\", hue=\"Tumor-size\", kind=\"count\", palette=\"pastel\", edgecolor=\".6\", data=df)"
   ]
  },
  {
   "cell_type": "markdown",
   "id": "673f1982",
   "metadata": {},
   "source": [
    "# Observation: From the above visualization Class vs tumor-size we can see in case of recurrence-events, tumor size is relatively smaller than in non-recurrence-events"
   ]
  },
  {
   "cell_type": "markdown",
   "id": "5f0e86a3",
   "metadata": {},
   "source": [
    "# Feature Extraction"
   ]
  },
  {
   "cell_type": "markdown",
   "id": "720bd285",
   "metadata": {},
   "source": [
    "# As our data set is categorical so to see which columns or features are correlated or dependent to our target variable, we will use Chi-square Test and proceed further for our feature selection"
   ]
  },
  {
   "cell_type": "markdown",
   "id": "3fd938de",
   "metadata": {},
   "source": [
    "# Chi-Square Test"
   ]
  },
  {
   "cell_type": "markdown",
   "id": "9c9ad294",
   "metadata": {},
   "source": [
    "As all the columns were categorical and we wanted to know the relationship between them, CHI-SQUARE TEST has been used. Testing the hypothesis to check if any variables are dependent on each other based on graphs above, Null hypothesis can be framed in the below manner: The grouping variables have no association or correlation amongst them. Alternate Hypothesis goes as framed below: The variables are associated with each other and happen to have a correlation between the variables. If the p-value is less than the assumed significance value (0.05), then we fail to accept that there is no association between the variables. That is, we reject the NULL hypothesis and accept the alternate hypothesis claim"
   ]
  },
  {
   "cell_type": "markdown",
   "id": "70d694d0",
   "metadata": {},
   "source": [
    "# Dependency between Age and Irradiat"
   ]
  },
  {
   "cell_type": "code",
   "execution_count": 30,
   "id": "5e26e4e4",
   "metadata": {},
   "outputs": [],
   "source": [
    "from scipy.stats import chi2_contingency"
   ]
  },
  {
   "cell_type": "code",
   "execution_count": 31,
   "id": "2497edec",
   "metadata": {},
   "outputs": [
    {
     "name": "stdout",
     "output_type": "stream",
     "text": [
      "Irradiat  no  yes\n",
      "Age              \n",
      "20-29      1    0\n",
      "30-39     25    8\n",
      "40-49     63   22\n",
      "50-59     76   13\n",
      "60-69     41   13\n",
      "70-79      5    0\n"
     ]
    }
   ],
   "source": [
    "chisqt1 = pd.crosstab(df[\"Age\"], df[\"Irradiat\"])\n",
    "print(chisqt1)"
   ]
  },
  {
   "cell_type": "code",
   "execution_count": 32,
   "id": "b3aaaf77",
   "metadata": {},
   "outputs": [
    {
     "name": "stdout",
     "output_type": "stream",
     "text": [
      "p value: 0.35459288868239697\n",
      "ACCEPT NULL HYPOTHESIS\n"
     ]
    }
   ],
   "source": [
    "stat, p, dof, expected=chi2_contingency(chisqt1)\n",
    "significance_level = 0.05\n",
    "print(\"p value: \" + str(p)) \n",
    "if p <= significance_level: \n",
    "    print('Reject NULL HYPOTHESIS') \n",
    "else: \n",
    "    print('ACCEPT NULL HYPOTHESIS')"
   ]
  },
  {
   "cell_type": "markdown",
   "id": "9a587ea4",
   "metadata": {},
   "source": [
    "Conclusion: As the p-value is greater than 0.05, we accept the NULL hypothesis and assume that the variables ‘Irradiat’ and ‘Age’ are independent of each other."
   ]
  },
  {
   "cell_type": "markdown",
   "id": "4685be8c",
   "metadata": {},
   "source": [
    "# Dependency between Class and Irradiat"
   ]
  },
  {
   "cell_type": "code",
   "execution_count": 33,
   "id": "b5e3040c",
   "metadata": {},
   "outputs": [
    {
     "name": "stdout",
     "output_type": "stream",
     "text": [
      "Irradiat               no  yes\n",
      "Class                         \n",
      "no-recurrence-events  160   26\n",
      "recurrence-events      51   30\n"
     ]
    }
   ],
   "source": [
    "chisqt2 = pd.crosstab(df[\"Class\"], df[\"Irradiat\"])\n",
    "print(chisqt2)"
   ]
  },
  {
   "cell_type": "code",
   "execution_count": 34,
   "id": "fcd5f63c",
   "metadata": {},
   "outputs": [
    {
     "name": "stdout",
     "output_type": "stream",
     "text": [
      "p value: 4.294577319315031e-05\n",
      "Reject NULL HYPOTHESIS\n"
     ]
    }
   ],
   "source": [
    "stat, p, dof, expected=chi2_contingency(chisqt2)\n",
    "significance_level = 0.05\n",
    "print(\"p value: \" + str(p)) \n",
    "if p <= significance_level: \n",
    "    print('Reject NULL HYPOTHESIS') \n",
    "else: \n",
    "    print('ACCEPT NULL HYPOTHESIS')"
   ]
  },
  {
   "cell_type": "markdown",
   "id": "82d806f4",
   "metadata": {},
   "source": [
    "Conclusion: As the p-value is less than 0.05, we reject the NULL hypothesis and assume that the variables ‘Irradiat’ and ‘Class’ are dependent of each other."
   ]
  },
  {
   "cell_type": "markdown",
   "id": "179636b2",
   "metadata": {},
   "source": [
    "# Dependency between Tumor-size and Irradiat"
   ]
  },
  {
   "cell_type": "code",
   "execution_count": 35,
   "id": "9c74f142",
   "metadata": {},
   "outputs": [
    {
     "name": "stdout",
     "output_type": "stream",
     "text": [
      "Irradiat    no  yes\n",
      "Tumor-size         \n",
      "0-4          8    0\n",
      "10-14       25    3\n",
      "15-19       24    5\n",
      "20-24       38    9\n",
      "25-29       36   13\n",
      "30-34       42   13\n",
      "35-39       15    2\n",
      "40-44       14    5\n",
      "45-49        1    2\n",
      "5-9          3    1\n",
      "50-54        5    3\n"
     ]
    }
   ],
   "source": [
    "chisqt3 = pd.crosstab(df[\"Tumor-size\"], df[\"Irradiat\"])\n",
    "print(chisqt3)"
   ]
  },
  {
   "cell_type": "code",
   "execution_count": 36,
   "id": "b9e6fa06",
   "metadata": {},
   "outputs": [
    {
     "name": "stdout",
     "output_type": "stream",
     "text": [
      "p value: 0.30417279412605713\n",
      "ACCEPT NULL HYPOTHESIS\n"
     ]
    }
   ],
   "source": [
    "stat, p, dof, expected=chi2_contingency(chisqt3)\n",
    "significance_level = 0.05\n",
    "print(\"p value: \" + str(p)) \n",
    "if p <= significance_level: \n",
    "    print('Reject NULL HYPOTHESIS') \n",
    "else: \n",
    "    print('ACCEPT NULL HYPOTHESIS')"
   ]
  },
  {
   "cell_type": "markdown",
   "id": "cd9f1b0d",
   "metadata": {},
   "source": [
    "Conclusion: As the p-value is greater than 0.05, we accept the NULL hypothesis and assume that the variables ‘Irradiat’ and ‘Tumor-size’ are independent of each other."
   ]
  },
  {
   "cell_type": "markdown",
   "id": "155045ce",
   "metadata": {},
   "source": [
    "# Dependency between Menopause and Irradiat"
   ]
  },
  {
   "cell_type": "code",
   "execution_count": 37,
   "id": "208127f5",
   "metadata": {},
   "outputs": [
    {
     "name": "stdout",
     "output_type": "stream",
     "text": [
      "Irradiat    no  yes\n",
      "Menopause          \n",
      "ge40        98   23\n",
      "lt40         5    0\n",
      "premeno    108   33\n"
     ]
    }
   ],
   "source": [
    "chisqt4 = pd.crosstab(df[\"Menopause\"], df[\"Irradiat\"])\n",
    "print(chisqt4)"
   ]
  },
  {
   "cell_type": "code",
   "execution_count": 38,
   "id": "c4752a8f",
   "metadata": {},
   "outputs": [
    {
     "name": "stdout",
     "output_type": "stream",
     "text": [
      "p value: 0.34792078095282974\n",
      "ACCEPT NULL HYPOTHESIS\n"
     ]
    }
   ],
   "source": [
    "stat, p, dof, expected=chi2_contingency(chisqt4)\n",
    "significance_level = 0.05\n",
    "print(\"p value: \" + str(p)) \n",
    "if p <= significance_level: \n",
    "    print('Reject NULL HYPOTHESIS') \n",
    "else: \n",
    "    print('ACCEPT NULL HYPOTHESIS')"
   ]
  },
  {
   "cell_type": "markdown",
   "id": "3aced1b5",
   "metadata": {},
   "source": [
    "Conclusion: As the p-value is greater than 0.05, we accept the NULL hypothesis and assume that the variables ‘Irradiat’ and ‘Menopause’ are independent of each other."
   ]
  },
  {
   "cell_type": "markdown",
   "id": "1976b77e",
   "metadata": {},
   "source": [
    "# Dependency between Inv-nodes and Irradiat"
   ]
  },
  {
   "cell_type": "code",
   "execution_count": 39,
   "id": "d5b438ad",
   "metadata": {},
   "outputs": [
    {
     "name": "stdout",
     "output_type": "stream",
     "text": [
      "Irradiat    no  yes\n",
      "Inv-nodes          \n",
      "0-2        178   28\n",
      "12-14        0    3\n",
      "15-17        5    1\n",
      "24-26        0    1\n",
      "3-5         18   13\n",
      "6-8          7    8\n",
      "9-11         3    2\n"
     ]
    }
   ],
   "source": [
    "chisqt5 = pd.crosstab(df[\"Inv-nodes\"], df[\"Irradiat\"])\n",
    "print(chisqt5)"
   ]
  },
  {
   "cell_type": "code",
   "execution_count": 40,
   "id": "14f8c567",
   "metadata": {},
   "outputs": [
    {
     "name": "stdout",
     "output_type": "stream",
     "text": [
      "p value: 3.322011042098311e-07\n",
      "Reject NULL HYPOTHESIS\n"
     ]
    }
   ],
   "source": [
    "stat, p, dof, expected=chi2_contingency(chisqt5)\n",
    "significance_level = 0.05\n",
    "print(\"p value: \" + str(p)) \n",
    "if p <= significance_level: \n",
    "    print('Reject NULL HYPOTHESIS') \n",
    "else: \n",
    "    print('ACCEPT NULL HYPOTHESIS')"
   ]
  },
  {
   "cell_type": "markdown",
   "id": "b84627eb",
   "metadata": {},
   "source": [
    "Conclusion: As the p-value is less than 0.05, we reject the NULL hypothesis and assume that the variables ‘Irradiat’ and ‘Inv-nodes’ are dependent of each other."
   ]
  },
  {
   "cell_type": "markdown",
   "id": "f7af1c12",
   "metadata": {},
   "source": [
    "# Dependency between Node-caps and Irradiat"
   ]
  },
  {
   "cell_type": "code",
   "execution_count": 41,
   "id": "bf1b961c",
   "metadata": {},
   "outputs": [
    {
     "name": "stdout",
     "output_type": "stream",
     "text": [
      "Irradiat    no  yes\n",
      "Node-caps          \n",
      "no         184   32\n",
      "yes         27   24\n"
     ]
    }
   ],
   "source": [
    "chisqt6 = pd.crosstab(df[\"Node-caps\"], df[\"Irradiat\"])\n",
    "print(chisqt6)"
   ]
  },
  {
   "cell_type": "code",
   "execution_count": 42,
   "id": "389d245c",
   "metadata": {},
   "outputs": [
    {
     "name": "stdout",
     "output_type": "stream",
     "text": [
      "p value: 9.779248044713831e-07\n",
      "Reject NULL HYPOTHESIS\n"
     ]
    }
   ],
   "source": [
    "stat, p, dof, expected=chi2_contingency(chisqt6)\n",
    "significance_level = 0.05\n",
    "print(\"p value: \" + str(p)) \n",
    "if p <= significance_level: \n",
    "    print('Reject NULL HYPOTHESIS') \n",
    "else: \n",
    "    print('ACCEPT NULL HYPOTHESIS')"
   ]
  },
  {
   "cell_type": "markdown",
   "id": "de596c18",
   "metadata": {},
   "source": [
    "Conclusion: As the p-value is less than 0.05, we reject the NULL hypothesis and assume that the variables ‘Irradiat’ and ‘Node-caps’ are dependent of each other."
   ]
  },
  {
   "cell_type": "markdown",
   "id": "e1e9c3d7",
   "metadata": {},
   "source": [
    "# Dependency between Deg-malig and Irradiat"
   ]
  },
  {
   "cell_type": "code",
   "execution_count": 43,
   "id": "b8cc6ea4",
   "metadata": {},
   "outputs": [
    {
     "name": "stdout",
     "output_type": "stream",
     "text": [
      "Irradiat   no  yes\n",
      "Deg-malig         \n",
      "1          62    4\n",
      "2          95   27\n",
      "3          54   25\n"
     ]
    }
   ],
   "source": [
    "chisqt7 = pd.crosstab(df[\"Deg-malig\"], df[\"Irradiat\"])\n",
    "print(chisqt7)"
   ]
  },
  {
   "cell_type": "code",
   "execution_count": 44,
   "id": "65e425d1",
   "metadata": {},
   "outputs": [
    {
     "name": "stdout",
     "output_type": "stream",
     "text": [
      "p value: 0.0007530576515843875\n",
      "Reject NULL HYPOTHESIS\n"
     ]
    }
   ],
   "source": [
    "stat, p, dof, expected=chi2_contingency(chisqt7)\n",
    "significance_level = 0.05\n",
    "print(\"p value: \" + str(p)) \n",
    "if p <= significance_level: \n",
    "    print('Reject NULL HYPOTHESIS') \n",
    "else: \n",
    "    print('ACCEPT NULL HYPOTHESIS')"
   ]
  },
  {
   "cell_type": "markdown",
   "id": "b2b017e8",
   "metadata": {},
   "source": [
    "Conclusion: As the p-value is less than 0.05, we reject the NULL hypothesis and assume that the variables ‘Irradiat’ and ‘Deg-malig’ are dependent of each other."
   ]
  },
  {
   "cell_type": "markdown",
   "id": "5bd421da",
   "metadata": {},
   "source": [
    "# Dependency between Breast and Irradiat"
   ]
  },
  {
   "cell_type": "code",
   "execution_count": 45,
   "id": "79864759",
   "metadata": {},
   "outputs": [
    {
     "name": "stdout",
     "output_type": "stream",
     "text": [
      "Irradiat   no  yes\n",
      "Breast            \n",
      "left      111   30\n",
      "right     100   26\n"
     ]
    }
   ],
   "source": [
    "chisqt8 = pd.crosstab(df[\"Breast\"], df[\"Irradiat\"])\n",
    "print(chisqt8)"
   ]
  },
  {
   "cell_type": "code",
   "execution_count": 46,
   "id": "4384b20f",
   "metadata": {},
   "outputs": [
    {
     "name": "stdout",
     "output_type": "stream",
     "text": [
      "p value: 1.0\n",
      "ACCEPT NULL HYPOTHESIS\n"
     ]
    }
   ],
   "source": [
    "stat, p, dof, expected=chi2_contingency(chisqt8)\n",
    "significance_level = 0.05\n",
    "print(\"p value: \" + str(p)) \n",
    "if p <= significance_level: \n",
    "    print('Reject NULL HYPOTHESIS') \n",
    "else: \n",
    "    print('ACCEPT NULL HYPOTHESIS')"
   ]
  },
  {
   "cell_type": "markdown",
   "id": "9c6cb707",
   "metadata": {},
   "source": [
    "Conclusion: As the p-value is greater than 0.05, we accept the NULL hypothesis and assume that the variables ‘Irradiat’ and ‘Breast’ are independent of each other."
   ]
  },
  {
   "cell_type": "markdown",
   "id": "d7eeff61",
   "metadata": {},
   "source": [
    "# Dependency between Breast-quad and Irradiat"
   ]
  },
  {
   "cell_type": "code",
   "execution_count": 47,
   "id": "05a0c1ad",
   "metadata": {},
   "outputs": [
    {
     "name": "stdout",
     "output_type": "stream",
     "text": [
      "Irradiat     no  yes\n",
      "Breast-quad         \n",
      "central      18    2\n",
      "left_low     81   24\n",
      "left_up      69   20\n",
      "right_low    17    6\n",
      "right_up     26    4\n"
     ]
    }
   ],
   "source": [
    "chisqt9 = pd.crosstab(df[\"Breast-quad\"], df[\"Irradiat\"])\n",
    "print(chisqt9)"
   ]
  },
  {
   "cell_type": "code",
   "execution_count": 48,
   "id": "c34e050e",
   "metadata": {},
   "outputs": [
    {
     "name": "stdout",
     "output_type": "stream",
     "text": [
      "p value: 0.5220751406038084\n",
      "ACCEPT NULL HYPOTHESIS\n"
     ]
    }
   ],
   "source": [
    "stat, p, dof, expected=chi2_contingency(chisqt9)\n",
    "significance_level = 0.05\n",
    "print(\"p value: \" + str(p)) \n",
    "if p <= significance_level: \n",
    "    print('Reject NULL HYPOTHESIS') \n",
    "else: \n",
    "    print('ACCEPT NULL HYPOTHESIS')"
   ]
  },
  {
   "cell_type": "markdown",
   "id": "b98c87d1",
   "metadata": {},
   "source": [
    "Conclusion: As the p-value is greater than 0.05, we accept the NULL hypothesis and assume that the variables ‘Irradiat’ and ‘Breast-quad’ are independent of each other."
   ]
  },
  {
   "cell_type": "markdown",
   "id": "0d3e9221",
   "metadata": {},
   "source": [
    "Thus, 'Class','Inv-nodes','Node-caps' and 'deg-malig' and 'Irradiat' are correlated according to the Chi-square test , so for the further feature selection we will consider only these columns."
   ]
  },
  {
   "cell_type": "markdown",
   "id": "12003b3d",
   "metadata": {},
   "source": [
    "# Feature Engineering"
   ]
  },
  {
   "cell_type": "markdown",
   "id": "6f215069",
   "metadata": {},
   "source": [
    "# Data Preparation "
   ]
  },
  {
   "cell_type": "markdown",
   "id": "1dc038e3",
   "metadata": {},
   "source": [
    "# For classification model building , converting String to Integer as String cannot be fit into classification model building"
   ]
  },
  {
   "cell_type": "code",
   "execution_count": 49,
   "id": "a5e34c6d",
   "metadata": {},
   "outputs": [
    {
     "data": {
      "text/plain": [
       "Class\n",
       "0    186\n",
       "1     81\n",
       "dtype: int64"
      ]
     },
     "execution_count": 49,
     "metadata": {},
     "output_type": "execute_result"
    }
   ],
   "source": [
    "df[\"Class\"] = df[\"Class\"].map({\"no-recurrence-events\":0, \"recurrence-events\":1})\n",
    "df.value_counts(\"Class\")"
   ]
  },
  {
   "cell_type": "code",
   "execution_count": 50,
   "id": "3d355c2a",
   "metadata": {},
   "outputs": [
    {
     "data": {
      "text/plain": [
       "Node-caps\n",
       "0    216\n",
       "1     51\n",
       "dtype: int64"
      ]
     },
     "execution_count": 50,
     "metadata": {},
     "output_type": "execute_result"
    }
   ],
   "source": [
    "df[\"Node-caps\"] = df[\"Node-caps\"].map({\"no\":0, \"yes\":1})\n",
    "df.value_counts(\"Node-caps\")"
   ]
  },
  {
   "cell_type": "code",
   "execution_count": 51,
   "id": "d6135356",
   "metadata": {},
   "outputs": [
    {
     "data": {
      "text/plain": [
       "Breast\n",
       "1    141\n",
       "0    126\n",
       "dtype: int64"
      ]
     },
     "execution_count": 51,
     "metadata": {},
     "output_type": "execute_result"
    }
   ],
   "source": [
    "df[\"Breast\"] = df[\"Breast\"].map({\"right\":0, \"left\":1})\n",
    "df.value_counts(\"Breast\")"
   ]
  },
  {
   "cell_type": "code",
   "execution_count": 52,
   "id": "cffa3f6a",
   "metadata": {},
   "outputs": [
    {
     "data": {
      "text/plain": [
       "Irradiat\n",
       "0    211\n",
       "1     56\n",
       "dtype: int64"
      ]
     },
     "execution_count": 52,
     "metadata": {},
     "output_type": "execute_result"
    }
   ],
   "source": [
    "df[\"Irradiat\"] = df[\"Irradiat\"].map({\"no\":0, \"yes\":1})\n",
    "df.value_counts(\"Irradiat\")"
   ]
  },
  {
   "cell_type": "code",
   "execution_count": 53,
   "id": "041c5ff8",
   "metadata": {},
   "outputs": [
    {
     "data": {
      "text/plain": [
       "Menopause\n",
       "0     141\n",
       "50    121\n",
       "30      5\n",
       "dtype: int64"
      ]
     },
     "execution_count": 53,
     "metadata": {},
     "output_type": "execute_result"
    }
   ],
   "source": [
    "df[\"Menopause\"] = df[\"Menopause\"].map({\"premeno\": 0 , \"ge40\":50, \"lt40\":30 })\n",
    "df.value_counts(\"Menopause\")"
   ]
  },
  {
   "cell_type": "code",
   "execution_count": 54,
   "id": "8199cb11",
   "metadata": {},
   "outputs": [
    {
     "data": {
      "text/plain": [
       "Breast-quad\n",
       "4    105\n",
       "3     89\n",
       "0     30\n",
       "1     23\n",
       "5     20\n",
       "dtype: int64"
      ]
     },
     "execution_count": 54,
     "metadata": {},
     "output_type": "execute_result"
    }
   ],
   "source": [
    "df[\"Breast-quad\"] = df[\"Breast-quad\"].map({\"right_up\":0, \"left_up\":3, \"right_low\":1, \"left_low\":4, \"central\":5})\n",
    "df.value_counts(\"Breast-quad\")"
   ]
  },
  {
   "cell_type": "code",
   "execution_count": 55,
   "id": "97319520",
   "metadata": {},
   "outputs": [
    {
     "data": {
      "text/plain": [
       "Inv-nodes\n",
       "1     206\n",
       "4      31\n",
       "7      15\n",
       "16      6\n",
       "10      5\n",
       "13      3\n",
       "25      1\n",
       "dtype: int64"
      ]
     },
     "execution_count": 55,
     "metadata": {},
     "output_type": "execute_result"
    }
   ],
   "source": [
    "df[\"Inv-nodes\"] = df[\"Inv-nodes\"].map({\"0-2\": 1 , \"3-5\":4, \"6-8\":7,\"9-11\":10,\"15-17\":16, \"12-14\":13,\"24-26\":25 })\n",
    "df.value_counts(\"Inv-nodes\")"
   ]
  },
  {
   "cell_type": "code",
   "execution_count": 56,
   "id": "2aa27d0d",
   "metadata": {},
   "outputs": [
    {
     "data": {
      "text/plain": [
       "Tumor-size\n",
       "32    55\n",
       "27    49\n",
       "22    47\n",
       "17    29\n",
       "12    28\n",
       "42    19\n",
       "37    17\n",
       "2      8\n",
       "52     8\n",
       "7      4\n",
       "47     3\n",
       "dtype: int64"
      ]
     },
     "execution_count": 56,
     "metadata": {},
     "output_type": "execute_result"
    }
   ],
   "source": [
    "df[\"Tumor-size\"] = df[\"Tumor-size\"].map({\"30-34\": 32 , \"25-29\":27, \"20-24\":22, \"15-19\":17, \"10-14\":12, \"40-44\":42, \"35-39\":37, \"0-4\":2, \"50-54\":52, \"5-9\":7, \"45-49\":47})\n",
    "df.value_counts(\"Tumor-size\")"
   ]
  },
  {
   "cell_type": "code",
   "execution_count": 57,
   "id": "8b87db16",
   "metadata": {},
   "outputs": [
    {
     "data": {
      "text/plain": [
       "Age\n",
       "54.5    89\n",
       "44.5    85\n",
       "64.5    54\n",
       "34.5    33\n",
       "74.5     5\n",
       "24.5     1\n",
       "dtype: int64"
      ]
     },
     "execution_count": 57,
     "metadata": {},
     "output_type": "execute_result"
    }
   ],
   "source": [
    "df[\"Age\"] = df[\"Age\"].map({\"50-59\": 54.5 , \"40-49\":44.5, \"60-69\":64.5, \"30-39\":34.5, \"70-79\":74.5, \"20-29\":24.5 })\n",
    "df.value_counts(\"Age\")"
   ]
  },
  {
   "cell_type": "markdown",
   "id": "f684117d",
   "metadata": {},
   "source": [
    "# Feature Selection"
   ]
  },
  {
   "cell_type": "markdown",
   "id": "9e4f8b3f",
   "metadata": {},
   "source": [
    "# Correlation matrix"
   ]
  },
  {
   "cell_type": "markdown",
   "id": "772ee2a8",
   "metadata": {},
   "source": [
    "We will agin do the correlation matrix as our data set is converted from categorical to numerical so now we can see by the correlation matrix which variables are dependent on our target variable. This matrix is also to gain confidence on the Chi-square-test we performed for feature selection "
   ]
  },
  {
   "cell_type": "code",
   "execution_count": 58,
   "id": "e1e0b1fa",
   "metadata": {},
   "outputs": [
    {
     "data": {
      "text/plain": [
       "<Axes: >"
      ]
     },
     "execution_count": 58,
     "metadata": {},
     "output_type": "execute_result"
    },
    {
     "data": {
      "image/png": "[encoded data removed]",
      "text/plain": [
       "<Figure size 1000x600 with 2 Axes>"
      ]
     },
     "metadata": {},
     "output_type": "display_data"
    }
   ],
   "source": [
    "cor=df.corr()\n",
    "plt.figure(figsize=(10,6))\n",
    "sns.heatmap(cor, annot=True)"
   ]
  },
  {
   "cell_type": "markdown",
   "id": "2f92da9a",
   "metadata": {},
   "source": [
    "After checking with Chi-square test and verifying the dataset with Correlation, we found 'Class', 'Inv-nodes', 'Node-caps' and 'Deg-malig' these features are most important as our target variable is dependent mostly on these. So we take these four features as independent variable for model selection and evaluation."
   ]
  },
  {
   "cell_type": "markdown",
   "id": "088ca94f",
   "metadata": {},
   "source": [
    "# Importing train_test_split from scikit-learn library to split the data into train and test for our future prediction"
   ]
  },
  {
   "cell_type": "code",
   "execution_count": 59,
   "id": "ef053512",
   "metadata": {},
   "outputs": [],
   "source": [
    "from sklearn.model_selection import train_test_split\n",
    "from sklearn.metrics import confusion_matrix,accuracy_score\n",
    "from sklearn import metrics"
   ]
  },
  {
   "cell_type": "markdown",
   "id": "6e15161c",
   "metadata": {},
   "source": [
    "# Defining our dependent and independent variables. Dependent variables are defined on X and independent variable is defined on Y"
   ]
  },
  {
   "cell_type": "code",
   "execution_count": 60,
   "id": "eac1d422",
   "metadata": {},
   "outputs": [
    {
     "name": "stdout",
     "output_type": "stream",
     "text": [
      "<class 'pandas.core.frame.DataFrame'>\n",
      "RangeIndex: 267 entries, 0 to 266\n",
      "Data columns (total 10 columns):\n",
      " #   Column       Non-Null Count  Dtype  \n",
      "---  ------       --------------  -----  \n",
      " 0   Class        267 non-null    int64  \n",
      " 1   Age          267 non-null    float64\n",
      " 2   Menopause    267 non-null    int64  \n",
      " 3   Tumor-size   267 non-null    int64  \n",
      " 4   Inv-nodes    267 non-null    int64  \n",
      " 5   Node-caps    267 non-null    int64  \n",
      " 6   Deg-malig    267 non-null    int64  \n",
      " 7   Breast       267 non-null    int64  \n",
      " 8   Breast-quad  267 non-null    int64  \n",
      " 9   Irradiat     267 non-null    int64  \n",
      "dtypes: float64(1), int64(9)\n",
      "memory usage: 21.0 KB\n"
     ]
    }
   ],
   "source": [
    "df.info()"
   ]
  },
  {
   "cell_type": "code",
   "execution_count": 63,
   "id": "f89f88dd",
   "metadata": {},
   "outputs": [
    {
     "data": {
      "text/plain": [
       "Index(['Class', 'Age', 'Menopause', 'Tumor-size', 'Inv-nodes', 'Node-caps',\n",
       "       'Deg-malig', 'Breast', 'Breast-quad', 'Irradiat'],\n",
       "      dtype='object')"
      ]
     },
     "execution_count": 63,
     "metadata": {},
     "output_type": "execute_result"
    }
   ],
   "source": [
    "df.columns"
   ]
  },
  {
   "cell_type": "code",
   "execution_count": 64,
   "id": "e3d7f50f",
   "metadata": {},
   "outputs": [],
   "source": [
    "x = df[['Class', 'Age', 'Menopause', 'Tumor-size', 'Inv-nodes', 'Node-caps',\n",
    "       'Deg-malig', 'Breast', 'Breast-quad']]\n",
    "y = df[[\"Irradiat\"]]"
   ]
  },
  {
   "cell_type": "code",
   "execution_count": 65,
   "id": "621db7ae",
   "metadata": {},
   "outputs": [
    {
     "name": "stdout",
     "output_type": "stream",
     "text": [
      "     Class   Age  Menopause  Tumor-size  Inv-nodes  Node-caps  Deg-malig  \\\n",
      "0        0  34.5          0          32          1          0          3   \n",
      "1        0  44.5          0          22          1          0          2   \n",
      "2        0  44.5          0          22          1          0          2   \n",
      "3        0  64.5         50          17          1          0          2   \n",
      "4        0  44.5          0           2          1          0          2   \n",
      "..     ...   ...        ...         ...        ...        ...        ...   \n",
      "262      1  34.5          0          32          1          0          2   \n",
      "263      1  34.5          0          22          1          0          3   \n",
      "264      1  64.5         50          22          1          0          1   \n",
      "265      1  44.5         50          32          4          0          3   \n",
      "266      1  54.5         50          32          4          0          3   \n",
      "\n",
      "     Breast  Breast-quad  \n",
      "0         1            4  \n",
      "1         0            0  \n",
      "2         1            4  \n",
      "3         0            3  \n",
      "4         0            1  \n",
      "..      ...          ...  \n",
      "262       1            3  \n",
      "263       1            3  \n",
      "264       0            3  \n",
      "265       1            4  \n",
      "266       1            4  \n",
      "\n",
      "[267 rows x 9 columns]\n"
     ]
    }
   ],
   "source": [
    "print(x)"
   ]
  },
  {
   "cell_type": "code",
   "execution_count": 66,
   "id": "bbf81b45",
   "metadata": {},
   "outputs": [
    {
     "name": "stdout",
     "output_type": "stream",
     "text": [
      "     Irradiat\n",
      "0           0\n",
      "1           0\n",
      "2           0\n",
      "3           0\n",
      "4           0\n",
      "..        ...\n",
      "262         0\n",
      "263         1\n",
      "264         0\n",
      "265         0\n",
      "266         0\n",
      "\n",
      "[267 rows x 1 columns]\n"
     ]
    }
   ],
   "source": [
    "print(y)"
   ]
  },
  {
   "cell_type": "markdown",
   "id": "f5175370",
   "metadata": {},
   "source": [
    "# Splitting the data set into test and train for our future modelling"
   ]
  },
  {
   "cell_type": "code",
   "execution_count": 67,
   "id": "f1d002f1",
   "metadata": {},
   "outputs": [],
   "source": [
    "x_train, x_test, y_train, y_test = train_test_split(x,y, test_size=0.3, random_state=0)"
   ]
  },
  {
   "cell_type": "code",
   "execution_count": 68,
   "id": "6b9a7ab2",
   "metadata": {},
   "outputs": [
    {
     "data": {
      "text/html": [
       "<div>\n",
       "<style scoped>\n",
       "    .dataframe tbody tr th:only-of-type {\n",
       "        vertical-align: middle;\n",
       "    }\n",
       "\n",
       "    .dataframe tbody tr th {\n",
       "        vertical-align: top;\n",
       "    }\n",
       "\n",
       "    .dataframe thead th {\n",
       "        text-align: right;\n",
       "    }\n",
       "</style>\n",
       "<table border=\"1\" class=\"dataframe\">\n",
       "  <thead>\n",
       "    <tr style=\"text-align: right;\">\n",
       "      <th></th>\n",
       "      <th>Class</th>\n",
       "      <th>Age</th>\n",
       "      <th>Menopause</th>\n",
       "      <th>Tumor-size</th>\n",
       "      <th>Inv-nodes</th>\n",
       "      <th>Node-caps</th>\n",
       "      <th>Deg-malig</th>\n",
       "      <th>Breast</th>\n",
       "      <th>Breast-quad</th>\n",
       "    </tr>\n",
       "  </thead>\n",
       "  <tbody>\n",
       "    <tr>\n",
       "      <th>243</th>\n",
       "      <td>1</td>\n",
       "      <td>64.5</td>\n",
       "      <td>50</td>\n",
       "      <td>27</td>\n",
       "      <td>4</td>\n",
       "      <td>0</td>\n",
       "      <td>2</td>\n",
       "      <td>0</td>\n",
       "      <td>0</td>\n",
       "    </tr>\n",
       "    <tr>\n",
       "      <th>21</th>\n",
       "      <td>0</td>\n",
       "      <td>64.5</td>\n",
       "      <td>50</td>\n",
       "      <td>17</td>\n",
       "      <td>1</td>\n",
       "      <td>0</td>\n",
       "      <td>2</td>\n",
       "      <td>1</td>\n",
       "      <td>4</td>\n",
       "    </tr>\n",
       "    <tr>\n",
       "      <th>228</th>\n",
       "      <td>1</td>\n",
       "      <td>34.5</td>\n",
       "      <td>0</td>\n",
       "      <td>32</td>\n",
       "      <td>10</td>\n",
       "      <td>0</td>\n",
       "      <td>2</td>\n",
       "      <td>0</td>\n",
       "      <td>3</td>\n",
       "    </tr>\n",
       "    <tr>\n",
       "      <th>109</th>\n",
       "      <td>0</td>\n",
       "      <td>64.5</td>\n",
       "      <td>50</td>\n",
       "      <td>32</td>\n",
       "      <td>1</td>\n",
       "      <td>0</td>\n",
       "      <td>1</td>\n",
       "      <td>0</td>\n",
       "      <td>3</td>\n",
       "    </tr>\n",
       "    <tr>\n",
       "      <th>16</th>\n",
       "      <td>0</td>\n",
       "      <td>44.5</td>\n",
       "      <td>0</td>\n",
       "      <td>17</td>\n",
       "      <td>1</td>\n",
       "      <td>0</td>\n",
       "      <td>2</td>\n",
       "      <td>1</td>\n",
       "      <td>4</td>\n",
       "    </tr>\n",
       "    <tr>\n",
       "      <th>...</th>\n",
       "      <td>...</td>\n",
       "      <td>...</td>\n",
       "      <td>...</td>\n",
       "      <td>...</td>\n",
       "      <td>...</td>\n",
       "      <td>...</td>\n",
       "      <td>...</td>\n",
       "      <td>...</td>\n",
       "      <td>...</td>\n",
       "    </tr>\n",
       "    <tr>\n",
       "      <th>251</th>\n",
       "      <td>1</td>\n",
       "      <td>54.5</td>\n",
       "      <td>50</td>\n",
       "      <td>32</td>\n",
       "      <td>7</td>\n",
       "      <td>1</td>\n",
       "      <td>3</td>\n",
       "      <td>1</td>\n",
       "      <td>1</td>\n",
       "    </tr>\n",
       "    <tr>\n",
       "      <th>192</th>\n",
       "      <td>1</td>\n",
       "      <td>54.5</td>\n",
       "      <td>0</td>\n",
       "      <td>32</td>\n",
       "      <td>1</td>\n",
       "      <td>0</td>\n",
       "      <td>3</td>\n",
       "      <td>1</td>\n",
       "      <td>0</td>\n",
       "    </tr>\n",
       "    <tr>\n",
       "      <th>117</th>\n",
       "      <td>0</td>\n",
       "      <td>44.5</td>\n",
       "      <td>50</td>\n",
       "      <td>22</td>\n",
       "      <td>1</td>\n",
       "      <td>0</td>\n",
       "      <td>3</td>\n",
       "      <td>1</td>\n",
       "      <td>3</td>\n",
       "    </tr>\n",
       "    <tr>\n",
       "      <th>47</th>\n",
       "      <td>0</td>\n",
       "      <td>54.5</td>\n",
       "      <td>0</td>\n",
       "      <td>27</td>\n",
       "      <td>1</td>\n",
       "      <td>0</td>\n",
       "      <td>1</td>\n",
       "      <td>0</td>\n",
       "      <td>3</td>\n",
       "    </tr>\n",
       "    <tr>\n",
       "      <th>172</th>\n",
       "      <td>0</td>\n",
       "      <td>64.5</td>\n",
       "      <td>50</td>\n",
       "      <td>17</td>\n",
       "      <td>1</td>\n",
       "      <td>0</td>\n",
       "      <td>2</td>\n",
       "      <td>1</td>\n",
       "      <td>3</td>\n",
       "    </tr>\n",
       "  </tbody>\n",
       "</table>\n",
       "<p>186 rows × 9 columns</p>\n",
       "</div>"
      ],
      "text/plain": [
       "     Class   Age  Menopause  Tumor-size  Inv-nodes  Node-caps  Deg-malig  \\\n",
       "243      1  64.5         50          27          4          0          2   \n",
       "21       0  64.5         50          17          1          0          2   \n",
       "228      1  34.5          0          32         10          0          2   \n",
       "109      0  64.5         50          32          1          0          1   \n",
       "16       0  44.5          0          17          1          0          2   \n",
       "..     ...   ...        ...         ...        ...        ...        ...   \n",
       "251      1  54.5         50          32          7          1          3   \n",
       "192      1  54.5          0          32          1          0          3   \n",
       "117      0  44.5         50          22          1          0          3   \n",
       "47       0  54.5          0          27          1          0          1   \n",
       "172      0  64.5         50          17          1          0          2   \n",
       "\n",
       "     Breast  Breast-quad  \n",
       "243       0            0  \n",
       "21        1            4  \n",
       "228       0            3  \n",
       "109       0            3  \n",
       "16        1            4  \n",
       "..      ...          ...  \n",
       "251       1            1  \n",
       "192       1            0  \n",
       "117       1            3  \n",
       "47        0            3  \n",
       "172       1            3  \n",
       "\n",
       "[186 rows x 9 columns]"
      ]
     },
     "execution_count": 68,
     "metadata": {},
     "output_type": "execute_result"
    }
   ],
   "source": [
    "x_train"
   ]
  },
  {
   "cell_type": "code",
   "execution_count": 69,
   "id": "9dd725c9",
   "metadata": {},
   "outputs": [],
   "source": [
    "df.to_excel('output.xlsx', index=False)"
   ]
  },
  {
   "cell_type": "code",
   "execution_count": 70,
   "id": "fb400143",
   "metadata": {},
   "outputs": [
    {
     "data": {
      "text/html": [
       "<div>\n",
       "<style scoped>\n",
       "    .dataframe tbody tr th:only-of-type {\n",
       "        vertical-align: middle;\n",
       "    }\n",
       "\n",
       "    .dataframe tbody tr th {\n",
       "        vertical-align: top;\n",
       "    }\n",
       "\n",
       "    .dataframe thead th {\n",
       "        text-align: right;\n",
       "    }\n",
       "</style>\n",
       "<table border=\"1\" class=\"dataframe\">\n",
       "  <thead>\n",
       "    <tr style=\"text-align: right;\">\n",
       "      <th></th>\n",
       "      <th>Irradiat</th>\n",
       "    </tr>\n",
       "  </thead>\n",
       "  <tbody>\n",
       "    <tr>\n",
       "      <th>243</th>\n",
       "      <td>0</td>\n",
       "    </tr>\n",
       "    <tr>\n",
       "      <th>21</th>\n",
       "      <td>0</td>\n",
       "    </tr>\n",
       "    <tr>\n",
       "      <th>228</th>\n",
       "      <td>1</td>\n",
       "    </tr>\n",
       "    <tr>\n",
       "      <th>109</th>\n",
       "      <td>0</td>\n",
       "    </tr>\n",
       "    <tr>\n",
       "      <th>16</th>\n",
       "      <td>0</td>\n",
       "    </tr>\n",
       "    <tr>\n",
       "      <th>...</th>\n",
       "      <td>...</td>\n",
       "    </tr>\n",
       "    <tr>\n",
       "      <th>251</th>\n",
       "      <td>0</td>\n",
       "    </tr>\n",
       "    <tr>\n",
       "      <th>192</th>\n",
       "      <td>0</td>\n",
       "    </tr>\n",
       "    <tr>\n",
       "      <th>117</th>\n",
       "      <td>0</td>\n",
       "    </tr>\n",
       "    <tr>\n",
       "      <th>47</th>\n",
       "      <td>0</td>\n",
       "    </tr>\n",
       "    <tr>\n",
       "      <th>172</th>\n",
       "      <td>1</td>\n",
       "    </tr>\n",
       "  </tbody>\n",
       "</table>\n",
       "<p>186 rows × 1 columns</p>\n",
       "</div>"
      ],
      "text/plain": [
       "     Irradiat\n",
       "243         0\n",
       "21          0\n",
       "228         1\n",
       "109         0\n",
       "16          0\n",
       "..        ...\n",
       "251         0\n",
       "192         0\n",
       "117         0\n",
       "47          0\n",
       "172         1\n",
       "\n",
       "[186 rows x 1 columns]"
      ]
     },
     "execution_count": 70,
     "metadata": {},
     "output_type": "execute_result"
    }
   ],
   "source": [
    "y_train"
   ]
  },
  {
   "cell_type": "markdown",
   "id": "dec89680",
   "metadata": {},
   "source": [
    "# Models We Considered are: 1.Logistic Regression, 2.DecisionTree"
   ]
  },
  {
   "cell_type": "markdown",
   "id": "9d9c45de",
   "metadata": {},
   "source": [
    "# Grid Search CV for Model Selection and Hyperparameter tuning for each model"
   ]
  },
  {
   "cell_type": "markdown",
   "id": "cbe47f9d",
   "metadata": {},
   "source": [
    "# Grid searching key hyperparameter for logistic Regression Model"
   ]
  },
  {
   "cell_type": "code",
   "execution_count": 71,
   "id": "44f680f6",
   "metadata": {},
   "outputs": [
    {
     "name": "stdout",
     "output_type": "stream",
     "text": [
      "Best: 0.795809 using {'C': 10, 'penalty': 'l1', 'solver': 'saga'}\n",
      "0.792203 (0.054556) with: {'C': 100, 'penalty': 'none', 'solver': 'newton-cg'}\n",
      "0.777485 (0.073315) with: {'C': 100, 'penalty': 'none', 'solver': 'lbfgs'}\n",
      "0.000000 (0.000000) with: {'C': 100, 'penalty': 'none', 'solver': 'liblinear'}\n",
      "0.793957 (0.038928) with: {'C': 100, 'penalty': 'none', 'solver': 'sag'}\n",
      "0.793957 (0.041487) with: {'C': 100, 'penalty': 'none', 'solver': 'saga'}\n",
      "0.000000 (0.000000) with: {'C': 100, 'penalty': 'l1', 'solver': 'newton-cg'}\n",
      "0.000000 (0.000000) with: {'C': 100, 'penalty': 'l1', 'solver': 'lbfgs'}\n",
      "0.792203 (0.054556) with: {'C': 100, 'penalty': 'l1', 'solver': 'liblinear'}\n",
      "0.000000 (0.000000) with: {'C': 100, 'penalty': 'l1', 'solver': 'sag'}\n",
      "0.793957 (0.041487) with: {'C': 100, 'penalty': 'l1', 'solver': 'saga'}\n",
      "0.792203 (0.054556) with: {'C': 100, 'penalty': 'l2', 'solver': 'newton-cg'}\n",
      "0.781287 (0.067465) with: {'C': 100, 'penalty': 'l2', 'solver': 'lbfgs'}\n",
      "0.792203 (0.054556) with: {'C': 100, 'penalty': 'l2', 'solver': 'liblinear'}\n",
      "0.793957 (0.038928) with: {'C': 100, 'penalty': 'l2', 'solver': 'sag'}\n",
      "0.793957 (0.041487) with: {'C': 100, 'penalty': 'l2', 'solver': 'saga'}\n",
      "0.000000 (0.000000) with: {'C': 100, 'penalty': 'elasticnet', 'solver': 'newton-cg'}\n",
      "0.000000 (0.000000) with: {'C': 100, 'penalty': 'elasticnet', 'solver': 'lbfgs'}\n",
      "0.000000 (0.000000) with: {'C': 100, 'penalty': 'elasticnet', 'solver': 'liblinear'}\n",
      "0.000000 (0.000000) with: {'C': 100, 'penalty': 'elasticnet', 'solver': 'sag'}\n",
      "0.000000 (0.000000) with: {'C': 100, 'penalty': 'elasticnet', 'solver': 'saga'}\n",
      "0.792203 (0.054556) with: {'C': 10, 'penalty': 'none', 'solver': 'newton-cg'}\n",
      "0.777485 (0.073315) with: {'C': 10, 'penalty': 'none', 'solver': 'lbfgs'}\n",
      "0.000000 (0.000000) with: {'C': 10, 'penalty': 'none', 'solver': 'liblinear'}\n",
      "0.793957 (0.038928) with: {'C': 10, 'penalty': 'none', 'solver': 'sag'}\n",
      "0.793957 (0.041487) with: {'C': 10, 'penalty': 'none', 'solver': 'saga'}\n",
      "0.000000 (0.000000) with: {'C': 10, 'penalty': 'l1', 'solver': 'newton-cg'}\n",
      "0.000000 (0.000000) with: {'C': 10, 'penalty': 'l1', 'solver': 'lbfgs'}\n",
      "0.788499 (0.059000) with: {'C': 10, 'penalty': 'l1', 'solver': 'liblinear'}\n",
      "0.000000 (0.000000) with: {'C': 10, 'penalty': 'l1', 'solver': 'sag'}\n",
      "0.795809 (0.041961) with: {'C': 10, 'penalty': 'l1', 'solver': 'saga'}\n",
      "0.792203 (0.054556) with: {'C': 10, 'penalty': 'l2', 'solver': 'newton-cg'}\n",
      "0.773977 (0.068582) with: {'C': 10, 'penalty': 'l2', 'solver': 'lbfgs'}\n",
      "0.784795 (0.061601) with: {'C': 10, 'penalty': 'l2', 'solver': 'liblinear'}\n",
      "0.793957 (0.038928) with: {'C': 10, 'penalty': 'l2', 'solver': 'sag'}\n",
      "0.795809 (0.041961) with: {'C': 10, 'penalty': 'l2', 'solver': 'saga'}\n",
      "0.000000 (0.000000) with: {'C': 10, 'penalty': 'elasticnet', 'solver': 'newton-cg'}\n",
      "0.000000 (0.000000) with: {'C': 10, 'penalty': 'elasticnet', 'solver': 'lbfgs'}\n",
      "0.000000 (0.000000) with: {'C': 10, 'penalty': 'elasticnet', 'solver': 'liblinear'}\n",
      "0.000000 (0.000000) with: {'C': 10, 'penalty': 'elasticnet', 'solver': 'sag'}\n",
      "0.000000 (0.000000) with: {'C': 10, 'penalty': 'elasticnet', 'solver': 'saga'}\n",
      "0.792203 (0.054556) with: {'C': 1.0, 'penalty': 'none', 'solver': 'newton-cg'}\n",
      "0.777485 (0.073315) with: {'C': 1.0, 'penalty': 'none', 'solver': 'lbfgs'}\n",
      "0.000000 (0.000000) with: {'C': 1.0, 'penalty': 'none', 'solver': 'liblinear'}\n",
      "0.793957 (0.038928) with: {'C': 1.0, 'penalty': 'none', 'solver': 'sag'}\n",
      "0.793957 (0.041487) with: {'C': 1.0, 'penalty': 'none', 'solver': 'saga'}\n",
      "0.000000 (0.000000) with: {'C': 1.0, 'penalty': 'l1', 'solver': 'newton-cg'}\n",
      "0.000000 (0.000000) with: {'C': 1.0, 'penalty': 'l1', 'solver': 'lbfgs'}\n",
      "0.790156 (0.060753) with: {'C': 1.0, 'penalty': 'l1', 'solver': 'liblinear'}\n",
      "0.000000 (0.000000) with: {'C': 1.0, 'penalty': 'l1', 'solver': 'sag'}\n",
      "0.795809 (0.041961) with: {'C': 1.0, 'penalty': 'l1', 'solver': 'saga'}\n",
      "0.783138 (0.054505) with: {'C': 1.0, 'penalty': 'l2', 'solver': 'newton-cg'}\n",
      "0.781384 (0.055307) with: {'C': 1.0, 'penalty': 'l2', 'solver': 'lbfgs'}\n",
      "0.788207 (0.063832) with: {'C': 1.0, 'penalty': 'l2', 'solver': 'liblinear'}\n",
      "0.793957 (0.038928) with: {'C': 1.0, 'penalty': 'l2', 'solver': 'sag'}\n",
      "0.795809 (0.041961) with: {'C': 1.0, 'penalty': 'l2', 'solver': 'saga'}\n",
      "0.000000 (0.000000) with: {'C': 1.0, 'penalty': 'elasticnet', 'solver': 'newton-cg'}\n",
      "0.000000 (0.000000) with: {'C': 1.0, 'penalty': 'elasticnet', 'solver': 'lbfgs'}\n",
      "0.000000 (0.000000) with: {'C': 1.0, 'penalty': 'elasticnet', 'solver': 'liblinear'}\n",
      "0.000000 (0.000000) with: {'C': 1.0, 'penalty': 'elasticnet', 'solver': 'sag'}\n",
      "0.000000 (0.000000) with: {'C': 1.0, 'penalty': 'elasticnet', 'solver': 'saga'}\n",
      "0.792203 (0.054556) with: {'C': 0.1, 'penalty': 'none', 'solver': 'newton-cg'}\n",
      "0.777485 (0.073315) with: {'C': 0.1, 'penalty': 'none', 'solver': 'lbfgs'}\n",
      "0.000000 (0.000000) with: {'C': 0.1, 'penalty': 'none', 'solver': 'liblinear'}\n",
      "0.793957 (0.038928) with: {'C': 0.1, 'penalty': 'none', 'solver': 'sag'}\n",
      "0.793957 (0.041487) with: {'C': 0.1, 'penalty': 'none', 'solver': 'saga'}\n",
      "0.000000 (0.000000) with: {'C': 0.1, 'penalty': 'l1', 'solver': 'newton-cg'}\n",
      "0.000000 (0.000000) with: {'C': 0.1, 'penalty': 'l1', 'solver': 'lbfgs'}\n",
      "0.792105 (0.032842) with: {'C': 0.1, 'penalty': 'l1', 'solver': 'liblinear'}\n",
      "0.000000 (0.000000) with: {'C': 0.1, 'penalty': 'l1', 'solver': 'sag'}\n",
      "0.790351 (0.036902) with: {'C': 0.1, 'penalty': 'l1', 'solver': 'saga'}\n",
      "0.781481 (0.035795) with: {'C': 0.1, 'penalty': 'l2', 'solver': 'newton-cg'}\n",
      "0.783236 (0.034841) with: {'C': 0.1, 'penalty': 'l2', 'solver': 'lbfgs'}\n",
      "0.795614 (0.040285) with: {'C': 0.1, 'penalty': 'l2', 'solver': 'liblinear'}\n",
      "0.793957 (0.041487) with: {'C': 0.1, 'penalty': 'l2', 'solver': 'sag'}\n",
      "0.795809 (0.041961) with: {'C': 0.1, 'penalty': 'l2', 'solver': 'saga'}\n",
      "0.000000 (0.000000) with: {'C': 0.1, 'penalty': 'elasticnet', 'solver': 'newton-cg'}\n",
      "0.000000 (0.000000) with: {'C': 0.1, 'penalty': 'elasticnet', 'solver': 'lbfgs'}\n",
      "0.000000 (0.000000) with: {'C': 0.1, 'penalty': 'elasticnet', 'solver': 'liblinear'}\n",
      "0.000000 (0.000000) with: {'C': 0.1, 'penalty': 'elasticnet', 'solver': 'sag'}\n",
      "0.000000 (0.000000) with: {'C': 0.1, 'penalty': 'elasticnet', 'solver': 'saga'}\n",
      "0.792203 (0.054556) with: {'C': 0.01, 'penalty': 'none', 'solver': 'newton-cg'}\n",
      "0.777485 (0.073315) with: {'C': 0.01, 'penalty': 'none', 'solver': 'lbfgs'}\n",
      "0.000000 (0.000000) with: {'C': 0.01, 'penalty': 'none', 'solver': 'liblinear'}\n",
      "0.793957 (0.038928) with: {'C': 0.01, 'penalty': 'none', 'solver': 'sag'}\n",
      "0.793957 (0.041487) with: {'C': 0.01, 'penalty': 'none', 'solver': 'saga'}\n",
      "0.000000 (0.000000) with: {'C': 0.01, 'penalty': 'l1', 'solver': 'newton-cg'}\n",
      "0.000000 (0.000000) with: {'C': 0.01, 'penalty': 'l1', 'solver': 'lbfgs'}\n",
      "0.790351 (0.015252) with: {'C': 0.01, 'penalty': 'l1', 'solver': 'liblinear'}\n",
      "0.000000 (0.000000) with: {'C': 0.01, 'penalty': 'l1', 'solver': 'sag'}\n",
      "0.790351 (0.015252) with: {'C': 0.01, 'penalty': 'l1', 'solver': 'saga'}\n",
      "0.781579 (0.034754) with: {'C': 0.01, 'penalty': 'l2', 'solver': 'newton-cg'}\n",
      "0.781579 (0.034754) with: {'C': 0.01, 'penalty': 'l2', 'solver': 'lbfgs'}\n",
      "0.783138 (0.037537) with: {'C': 0.01, 'penalty': 'l2', 'solver': 'liblinear'}\n",
      "0.783138 (0.037537) with: {'C': 0.01, 'penalty': 'l2', 'solver': 'sag'}\n",
      "0.784893 (0.036549) with: {'C': 0.01, 'penalty': 'l2', 'solver': 'saga'}\n",
      "0.000000 (0.000000) with: {'C': 0.01, 'penalty': 'elasticnet', 'solver': 'newton-cg'}\n",
      "0.000000 (0.000000) with: {'C': 0.01, 'penalty': 'elasticnet', 'solver': 'lbfgs'}\n",
      "0.000000 (0.000000) with: {'C': 0.01, 'penalty': 'elasticnet', 'solver': 'liblinear'}\n",
      "0.000000 (0.000000) with: {'C': 0.01, 'penalty': 'elasticnet', 'solver': 'sag'}\n",
      "0.000000 (0.000000) with: {'C': 0.01, 'penalty': 'elasticnet', 'solver': 'saga'}\n"
     ]
    }
   ],
   "source": [
    " \n",
    "from sklearn.model_selection import RepeatedStratifiedKFold\n",
    "from sklearn.model_selection import GridSearchCV\n",
    "from sklearn.linear_model import LogisticRegression\n",
    "# define models and parameters\n",
    "model = LogisticRegression()\n",
    "solvers = ['newton-cg', 'lbfgs', 'liblinear','sag','saga']\n",
    "penalty = ['none','l1','l2','elasticnet']\n",
    "c_values = [100, 10, 1.0, 0.1, 0.01]\n",
    "# define grid search\n",
    "grid = dict(solver=solvers,penalty=penalty,C=c_values)\n",
    "cv = RepeatedStratifiedKFold(n_splits=10, n_repeats=3, random_state=1)\n",
    "grid_search = GridSearchCV(estimator=model, param_grid=grid, n_jobs=-1, cv=cv, scoring='accuracy',error_score=0)\n",
    "grid_result_logistic = grid_search.fit(x_train, y_train)\n",
    "# summarize results\n",
    "print(\"Best: %f using %s\" % (grid_result_logistic.best_score_, grid_result_logistic.best_params_))\n",
    "means = grid_result_logistic.cv_results_['mean_test_score']\n",
    "stds = grid_result_logistic.cv_results_['std_test_score']\n",
    "params = grid_result_logistic.cv_results_['params']\n",
    "for mean, stdev, param in zip(means, stds, params):\n",
    "    print(\"%f (%f) with: %r\" % (mean, stdev, param))\n"
   ]
  },
  {
   "cell_type": "markdown",
   "id": "a20ce977",
   "metadata": {},
   "source": [
    "# Observation: 0.790546 using {'C': 0.1, 'penalty': 'l2', 'solver': 'newton-cg'}"
   ]
  },
  {
   "cell_type": "markdown",
   "id": "92d06a42",
   "metadata": {},
   "source": [
    "# Grid searching key hyperparameter for Decision Tree Classifier Model"
   ]
  },
  {
   "cell_type": "code",
   "execution_count": null,
   "id": "34114cb9",
   "metadata": {},
   "outputs": [],
   "source": [
    "# example of grid searching key hyperparameters for BaggingClassifier\n",
    "#from sklearn.model_selection import RepeatedStratifiedKFold\n",
    "#from sklearn.model_selection import GridSearchCV\n",
    "#from sklearn.ensemble import BaggingClassifier\n",
    "# define dataset\n",
    "\n",
    "# define models and parameters\n",
    "#model = BaggingClassifier()\n",
    "#n_estimators = [10, 100, 1000]\n",
    "# define grid search\n",
    "#grid = dict(n_estimators=n_estimators)\n",
    "#cv = RepeatedStratifiedKFold(n_splits=10, n_repeats=3, random_state=1)\n",
    "#grid_search = GridSearchCV(estimator=model, param_grid=grid, n_jobs=-1, cv=cv, scoring='accuracy',error_score=0)\n",
    "#grid_result_dt = grid_search.fit(x_train, y_train)\n",
    "# summarize results\n",
    "#print(\"Best: %f using %s\" % (grid_result_dt.best_score_, grid_result_dt.best_params_))\n",
    "#means = grid_result_dt.cv_results_['mean_test_score']\n",
    "#stds = grid_result_dt.cv_results_['std_test_score']\n",
    "#params = grid_result_dt.cv_results_['params']\n",
    "#for mean, stdev, param in zip(means, stds, params):\n",
    "   # print(\"%f (%f) with: %r\" % (mean, stdev, param))"
   ]
  },
  {
   "cell_type": "code",
   "execution_count": 72,
   "id": "1f2e17ed",
   "metadata": {},
   "outputs": [],
   "source": [
    "import pickle"
   ]
  },
  {
   "cell_type": "code",
   "execution_count": 73,
   "id": "c43012bc",
   "metadata": {},
   "outputs": [
    {
     "data": {
      "text/plain": [
       "<function _pickle.dump(obj, file, protocol=None, *, fix_imports=True, buffer_callback=None)>"
      ]
     },
     "execution_count": 73,
     "metadata": {},
     "output_type": "execute_result"
    }
   ],
   "source": [
    "pickle.dump"
   ]
  },
  {
   "cell_type": "code",
   "execution_count": 74,
   "id": "73b107c7",
   "metadata": {},
   "outputs": [],
   "source": [
    "pickle.dump(grid_result_logistic,open('biku4.sav','wb'))"
   ]
  },
  {
   "cell_type": "code",
   "execution_count": null,
   "id": "7c91788f",
   "metadata": {},
   "outputs": [],
   "source": []
  }
 ],
 "metadata": {
  "kernelspec": {
   "display_name": "Python 3 (ipykernel)",
   "language": "python",
   "name": "python3"
  },
  "language_info": {
   "codemirror_mode": {
    "name": "ipython",
    "version": 3
   },
   "file_extension": ".py",
   "mimetype": "text/x-python",
   "name": "python",
   "nbconvert_exporter": "python",
   "pygments_lexer": "ipython3",
   "version": "3.11.4"
  }
 },
 "nbformat": 4,
 "nbformat_minor": 5
}
